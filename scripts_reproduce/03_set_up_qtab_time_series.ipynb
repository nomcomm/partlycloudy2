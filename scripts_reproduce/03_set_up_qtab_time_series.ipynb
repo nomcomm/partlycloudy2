{
 "cells": [
  {
   "cell_type": "markdown",
   "metadata": {},
   "source": [
    "### Basic ISC\n",
    "\n",
    "\n",
    "\n",
    "#### Import modules"
   ]
  },
  {
   "cell_type": "code",
   "execution_count": 1,
   "metadata": {},
   "outputs": [],
   "source": [
    "import sys, os\n",
    "import numpy as np\n",
    "import pandas as pd"
   ]
  },
  {
   "cell_type": "markdown",
   "metadata": {},
   "source": [
    "#### Load timeseries, run basic ISC (static)"
   ]
  },
  {
   "cell_type": "code",
   "execution_count": 2,
   "metadata": {},
   "outputs": [
    {
     "data": {
      "text/plain": [
       "200"
      ]
     },
     "execution_count": 2,
     "metadata": {},
     "output_type": "execute_result"
    }
   ],
   "source": [
    "twin_df = pd.read_csv('../data/00_dataset_info/twin_df.csv')\n",
    "sub_list = list(np.hstack((twin_df['twin_A_id'].values, twin_df['twin_B_id'].values)))\n",
    "len(sub_list)"
   ]
  },
  {
   "cell_type": "code",
   "execution_count": 3,
   "metadata": {},
   "outputs": [
    {
     "name": "stdout",
     "output_type": "stream",
     "text": [
      " \n"
     ]
    }
   ],
   "source": [
    "# done only for the 1st time, later just load the data\n",
    "'''\n",
    "ts_data = []\n",
    "\n",
    "for curr_sub in sub_list:\n",
    "    #print(curr_sub)\n",
    "    curr_file = '../data/03_extract_ts/' + curr_sub + '_LTR_Z_THP001_LP012_shen268_pauli16_aan9.npy'\n",
    "    #print(curr_file)\n",
    "    \n",
    "    ts_data.append(np.load(curr_file))\n",
    "    \n",
    "ts_data = np.asarray(ts_data)\n",
    "print(ts_data.shape)\n",
    "\n",
    "np.save('../data/03_extract_ts/ts_array_shen268_pauli16_aan9.npy', ts_data)\n",
    "#'''\n",
    "print(' ')"
   ]
  },
  {
   "cell_type": "code",
   "execution_count": 4,
   "metadata": {},
   "outputs": [
    {
     "data": {
      "text/plain": [
       "(380, 293, 200)"
      ]
     },
     "execution_count": 4,
     "metadata": {},
     "output_type": "execute_result"
    }
   ],
   "source": [
    "# load timeseries, swap axes\n",
    "ts_array = np.load('../data/03_extract_ts/ts_array_shen268_pauli16_aan9.npy')\n",
    "ts_data = np.swapaxes(ts_array, 0, 2)\n",
    "ts_data = np.swapaxes(ts_data, 0, 1)\n",
    "ts_data.shape"
   ]
  },
  {
   "cell_type": "code",
   "execution_count": null,
   "metadata": {},
   "outputs": [],
   "source": []
  }
 ],
 "metadata": {
  "kernelspec": {
   "display_name": "Python 3 (ipykernel)",
   "language": "python",
   "name": "python3"
  },
  "language_info": {
   "codemirror_mode": {
    "name": "ipython",
    "version": 3
   },
   "file_extension": ".py",
   "mimetype": "text/x-python",
   "name": "python",
   "nbconvert_exporter": "python",
   "pygments_lexer": "ipython3",
   "version": "3.11.5"
  }
 },
 "nbformat": 4,
 "nbformat_minor": 4
}
