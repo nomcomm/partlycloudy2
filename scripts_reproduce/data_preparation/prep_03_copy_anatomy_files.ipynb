{
 "cells": [
  {
   "cell_type": "markdown",
   "id": "powerful-packing",
   "metadata": {},
   "source": [
    "## Copy anatomical files\n",
    "\n",
    "The goal of this notebook is to copy a subset of the anatomical MRI files, i.e. the T1s, which will be needed down the road for a control analysis. \n",
    "\n",
    "Note: As for the previous notebook, this step can only be reproduced via the notebook if you have the raw data in place.\n",
    "\n",
    "\n",
    "#### Import modules"
   ]
  },
  {
   "cell_type": "code",
   "execution_count": 1,
   "id": "dietary-enemy",
   "metadata": {},
   "outputs": [],
   "source": [
    "import pandas as pd\n",
    "import os, itertools, random\n",
    "import numpy as np\n",
    "from nilearn.masking import compute_brain_mask\n",
    "#!pip install nilearn --upgrade\n",
    "from nilearn import image\n",
    "from nilearn.masking import apply_mask \n",
    "#compute_brain_mask"
   ]
  },
  {
   "cell_type": "markdown",
   "id": "distinguished-subscription",
   "metadata": {},
   "source": [
    "#### Load the participants-file and the available session-2 movie-viewing data"
   ]
  },
  {
   "cell_type": "code",
   "execution_count": 2,
   "id": "solved-beginning",
   "metadata": {},
   "outputs": [
    {
     "name": "stdout",
     "output_type": "stream",
     "text": [
      "['sub-0306', 'sub-0092', 'sub-0256', 'sub-0325', 'sub-0232']\n"
     ]
    },
    {
     "data": {
      "text/html": [
       "<div>\n",
       "<style scoped>\n",
       "    .dataframe tbody tr th:only-of-type {\n",
       "        vertical-align: middle;\n",
       "    }\n",
       "\n",
       "    .dataframe tbody tr th {\n",
       "        vertical-align: top;\n",
       "    }\n",
       "\n",
       "    .dataframe thead th {\n",
       "        text-align: right;\n",
       "    }\n",
       "</style>\n",
       "<table border=\"1\" class=\"dataframe\">\n",
       "  <thead>\n",
       "    <tr style=\"text-align: right;\">\n",
       "      <th></th>\n",
       "      <th>participant_id</th>\n",
       "      <th>family_id</th>\n",
       "      <th>age</th>\n",
       "      <th>age_ses02</th>\n",
       "      <th>sex</th>\n",
       "      <th>handedness</th>\n",
       "      <th>ses01_protocol</th>\n",
       "      <th>ses02_protocol</th>\n",
       "      <th>group</th>\n",
       "    </tr>\n",
       "  </thead>\n",
       "  <tbody>\n",
       "    <tr>\n",
       "      <th>0</th>\n",
       "      <td>sub-0001</td>\n",
       "      <td>fam-0001</td>\n",
       "      <td>12</td>\n",
       "      <td>14.0</td>\n",
       "      <td>M</td>\n",
       "      <td>Right</td>\n",
       "      <td>1b</td>\n",
       "      <td>2b</td>\n",
       "      <td>NaN</td>\n",
       "    </tr>\n",
       "    <tr>\n",
       "      <th>2</th>\n",
       "      <td>sub-0003</td>\n",
       "      <td>fam-0116</td>\n",
       "      <td>12</td>\n",
       "      <td>14.0</td>\n",
       "      <td>M</td>\n",
       "      <td>Right</td>\n",
       "      <td>1d</td>\n",
       "      <td>2c</td>\n",
       "      <td>NaN</td>\n",
       "    </tr>\n",
       "    <tr>\n",
       "      <th>3</th>\n",
       "      <td>sub-0004</td>\n",
       "      <td>fam-0002</td>\n",
       "      <td>10</td>\n",
       "      <td>11.0</td>\n",
       "      <td>M</td>\n",
       "      <td>Right</td>\n",
       "      <td>1d</td>\n",
       "      <td>2c</td>\n",
       "      <td>NaN</td>\n",
       "    </tr>\n",
       "    <tr>\n",
       "      <th>4</th>\n",
       "      <td>sub-0005</td>\n",
       "      <td>fam-0088</td>\n",
       "      <td>10</td>\n",
       "      <td>12.0</td>\n",
       "      <td>F</td>\n",
       "      <td>Right</td>\n",
       "      <td>1d</td>\n",
       "      <td>2c</td>\n",
       "      <td>NaN</td>\n",
       "    </tr>\n",
       "    <tr>\n",
       "      <th>5</th>\n",
       "      <td>sub-0006</td>\n",
       "      <td>fam-0178</td>\n",
       "      <td>13</td>\n",
       "      <td>15.0</td>\n",
       "      <td>M</td>\n",
       "      <td>Right</td>\n",
       "      <td>1b</td>\n",
       "      <td>2a</td>\n",
       "      <td>NaN</td>\n",
       "    </tr>\n",
       "  </tbody>\n",
       "</table>\n",
       "</div>"
      ],
      "text/plain": [
       "  participant_id family_id  age  age_ses02 sex handedness ses01_protocol  \\\n",
       "0       sub-0001  fam-0001   12       14.0   M      Right             1b   \n",
       "2       sub-0003  fam-0116   12       14.0   M      Right             1d   \n",
       "3       sub-0004  fam-0002   10       11.0   M      Right             1d   \n",
       "4       sub-0005  fam-0088   10       12.0   F      Right             1d   \n",
       "5       sub-0006  fam-0178   13       15.0   M      Right             1b   \n",
       "\n",
       "  ses02_protocol  group  \n",
       "0             2b    NaN  \n",
       "2             2c    NaN  \n",
       "3             2c    NaN  \n",
       "4             2c    NaN  \n",
       "5             2a    NaN  "
      ]
     },
     "execution_count": 2,
     "metadata": {},
     "output_type": "execute_result"
    }
   ],
   "source": [
    "df = pd.read_csv('../../data/00_dataset_info/participants.tsv', sep='\\t')\n",
    "df.head()\n",
    "\n",
    "subs_extracted = [f[:8] for f in os.listdir('../../data/03_extract_ts_aus/') if f.startswith('sub')]\n",
    "print(subs_extracted[:5])\n",
    "\n",
    "f = df[df['participant_id'].isin(subs_extracted)]\n",
    "f.head()"
   ]
  },
  {
   "cell_type": "markdown",
   "id": "growing-objective",
   "metadata": {},
   "source": [
    "#### Select the twins and copy their anatomical files"
   ]
  },
  {
   "cell_type": "code",
   "execution_count": 3,
   "id": "threatened-liechtenstein",
   "metadata": {},
   "outputs": [
    {
     "name": "stdout",
     "output_type": "stream",
     "text": [
      "276\n",
      "138\n"
     ]
    }
   ],
   "source": [
    "twin_list = []\n",
    "\n",
    "for i in range(len(f)):\n",
    "    current_family = f.iloc[i, :]['family_id']\n",
    "    curr_dyad      = f[f['family_id'] == current_family]['participant_id'].values\n",
    "    if (curr_dyad.shape[0] == 2):\n",
    "        twin_list.append(list(curr_dyad))\n",
    "        \n",
    "print(len(twin_list))\n",
    "\n",
    "twin_list.sort()\n",
    "twin_list = list(twin_list for twin_list,_ in itertools.groupby(twin_list))\n",
    "\n",
    "print(len(twin_list))"
   ]
  },
  {
   "cell_type": "code",
   "execution_count": 4,
   "id": "duplicate-float",
   "metadata": {
    "scrolled": true
   },
   "outputs": [
    {
     "name": "stdout",
     "output_type": "stream",
     "text": [
      "n\n"
     ]
    }
   ],
   "source": [
    "# commented out here because it can only be reproduced if the raw files are in place\n",
    "\n",
    "''' #import shutil\n",
    "for current_dyad in range(len(twin_list)):\n",
    "        print(twin_list[current_dyad])\n",
    "        \n",
    "        #file_a = twin_list[current_dyad][0]\n",
    "        #source_path_a = '/Volumes/Backup Plus/twins_fmriprep/' + file_a + '/ses-02/anat/' + file_a + '_ses-02_space-MNI152NLin2009cAsym_desc-preproc_T1w.nii.gz'\n",
    "        #dest_path_a = '../../data/04_anatomy/' + file_a + '_ses-02_space-MNI152NLin2009cAsym_desc-preproc_T1w.nii.gz'\n",
    "        #shutil.copyfile(source_path_a, dest_path_a)\n",
    "        \n",
    "        file_a = twin_list[current_dyad][0]\n",
    "        source_path_a = '/Volumes/Backup Plus/twins_fmriprep/' + file_a + '/ses-02/anat/' + file_a + '_ses-02_space-MNI152NLin2009cAsym_desc-preproc_T1w.nii.gz'\n",
    "        dest_path_a = '../../data/04_anatomy/' + file_a + '_ses-02_space-MNI152NLin2009cAsym_desc-brain_mask.nii.gz'\n",
    "        shutil.copyfile(source_path_a, dest_path_a)\n",
    "        \n",
    "        #file_b = twin_list[current_dyad][1]\n",
    "        #source_path_b = '/Volumes/Backup Plus/twins_fmriprep/' + file_b + '/ses-02/anat/' + file_b + '_ses-02_space-MNI152NLin2009cAsym_desc-preproc_T1w.nii.gz'\n",
    "        #dest_path_b = '../../data/04_anatomy/' + file_b + '_ses-02_space-MNI152NLin2009cAsym_desc-preproc_T1w.nii.gz'\n",
    "        #shutil.copyfile(source_path_b, dest_path_b)\n",
    "        \n",
    "        file_b = twin_list[current_dyad][1]\n",
    "        source_path_b = '/Volumes/Backup Plus/twins_fmriprep/' + file_b + '/ses-02/anat/' + file_b + '_ses-02_space-MNI152NLin2009cAsym_desc-preproc_T1w.nii.gz'\n",
    "        dest_path_b = '../../data/04_anatomy/' + file_b + '_ses-02_space-MNI152NLin2009cAsym_desc-brain_mask.nii.gz'\n",
    "        shutil.copyfile(source_path_b, dest_path_b)# '''\n",
    "print('n')"
   ]
  },
  {
   "cell_type": "markdown",
   "id": "conditional-animal",
   "metadata": {},
   "source": [
    "### testing to set up some correlation of anatomical similarity values"
   ]
  },
  {
   "cell_type": "code",
   "execution_count": 7,
   "id": "tutorial-hacker",
   "metadata": {},
   "outputs": [
    {
     "name": "stdout",
     "output_type": "stream",
     "text": [
      "['sub-0001', 'sub-0018']\n"
     ]
    }
   ],
   "source": [
    "for current_dyad in range(1):\n",
    "        print(twin_list[current_dyad])\n",
    "        \n",
    "        file_a = twin_list[current_dyad][0]\n",
    "        file_b = twin_list[current_dyad][1]"
   ]
  },
  {
   "cell_type": "code",
   "execution_count": 8,
   "id": "senior-colombia",
   "metadata": {},
   "outputs": [
    {
     "data": {
      "text/plain": [
       "['sub-0007', 'sub-0048']"
      ]
     },
     "execution_count": 8,
     "metadata": {},
     "output_type": "execute_result"
    }
   ],
   "source": [
    "twin_list[5]"
   ]
  },
  {
   "cell_type": "code",
   "execution_count": 9,
   "id": "macro-harmony",
   "metadata": {},
   "outputs": [],
   "source": [
    "file_o = 'sub-0007'"
   ]
  },
  {
   "cell_type": "code",
   "execution_count": 10,
   "id": "decent-performance",
   "metadata": {},
   "outputs": [],
   "source": [
    "f1 = '../../data/04_anatomy/' + file_a + '_ses-02_space-MNI152NLin2009cAsym_desc-preproc_T1w.nii.gz'\n",
    "f1m = '../../data/04_anatomy/' + file_a + '_ses-02_space-MNI152NLin2009cAsym_desc-brain_mask.nii.gz'\n",
    "f1_masked = apply_mask(f1, compute_brain_mask(f1m, threshold=0.01, mask_type='whole-brain'))\n",
    "\n",
    "f2 = '../../data/04_anatomy/' + file_b + '_ses-02_space-MNI152NLin2009cAsym_desc-preproc_T1w.nii.gz'\n",
    "f2m = '../../data/04_anatomy/' + file_b + '_ses-02_space-MNI152NLin2009cAsym_desc-brain_mask.nii.gz'\n",
    "f2_masked = apply_mask(f2, compute_brain_mask(f2m, threshold=0.01, mask_type='whole-brain'))\n",
    "\n",
    "\n",
    "fo = '../../data/04_anatomy/' + file_o + '_ses-02_space-MNI152NLin2009cAsym_desc-preproc_T1w.nii.gz'\n",
    "fom = '../../data/04_anatomy/' + file_o + '_ses-02_space-MNI152NLin2009cAsym_desc-brain_mask.nii.gz'\n",
    "fo_masked = apply_mask(fo, compute_brain_mask(fom, threshold=0.01, mask_type='whole-brain'))\n",
    "\n",
    "\n",
    "#f1m_img = image.load_img(f1m)\n",
    "#f1m_data = f1_img.get_fdata()\n",
    "#print(f1m_data.shape)\n",
    "\n",
    "#f1_img = image.load_img(f1)\n",
    "#f1_data = f1_img.get_fdata()\n",
    "#print(f1_data.shape)\n",
    "\n",
    "#f2_img = image.load_img(f2)\n",
    "#f2_data = f2_img.get_fdata()\n",
    "#print(f2_data.shape)"
   ]
  },
  {
   "cell_type": "code",
   "execution_count": 11,
   "id": "exterior-organization",
   "metadata": {},
   "outputs": [
    {
     "name": "stdout",
     "output_type": "stream",
     "text": [
      "(3754338,)\n",
      "(3754338,)\n",
      "(3754338,)\n"
     ]
    }
   ],
   "source": [
    "print(f1_masked.shape)\n",
    "print(f2_masked.shape)\n",
    "print(fo_masked.shape)"
   ]
  },
  {
   "cell_type": "code",
   "execution_count": 12,
   "id": "beginning-savings",
   "metadata": {},
   "outputs": [
    {
     "name": "stdout",
     "output_type": "stream",
     "text": [
      "0.7421049427070661\n",
      "0.7275087445841587\n",
      "0.7334759618501598\n"
     ]
    }
   ],
   "source": [
    "print(np.corrcoef(f1_masked, f2_masked)[0,1])\n",
    "print(np.corrcoef(f1_masked, fo_masked)[0,1])\n",
    "print(np.corrcoef(f2_masked, fo_masked)[0,1])"
   ]
  },
  {
   "cell_type": "code",
   "execution_count": 13,
   "id": "alpine-fruit",
   "metadata": {},
   "outputs": [
    {
     "name": "stdout",
     "output_type": "stream",
     "text": [
      "0.9999999999999999\n"
     ]
    }
   ],
   "source": [
    "print(np.corrcoef(f1_masked, f1_masked)[0,1])\n"
   ]
  },
  {
   "cell_type": "code",
   "execution_count": 14,
   "id": "sticky-review",
   "metadata": {},
   "outputs": [
    {
     "data": {
      "text/plain": [
       "<matplotlib.collections.PathCollection at 0x7fe8f3fa5310>"
      ]
     },
     "execution_count": 14,
     "metadata": {},
     "output_type": "execute_result"
    },
    {
     "data": {
      "image/png": "[encoded data removed]",
      "text/plain": [
       "<Figure size 432x288 with 1 Axes>"
      ]
     },
     "metadata": {
      "needs_background": "light"
     },
     "output_type": "display_data"
    }
   ],
   "source": [
    "import matplotlib.pyplot as plt\n",
    "plt.scatter(f1_masked[50000:70000], f2_masked[50000:70000])"
   ]
  }
 ],
 "metadata": {
  "kernelspec": {
   "display_name": "Python 3 (ipykernel)",
   "language": "python",
   "name": "python3"
  },
  "language_info": {
   "codemirror_mode": {
    "name": "ipython",
    "version": 3
   },
   "file_extension": ".py",
   "mimetype": "text/x-python",
   "name": "python",
   "nbconvert_exporter": "python",
   "pygments_lexer": "ipython3",
   "version": "3.11.5"
  }
 },
 "nbformat": 4,
 "nbformat_minor": 5
}
