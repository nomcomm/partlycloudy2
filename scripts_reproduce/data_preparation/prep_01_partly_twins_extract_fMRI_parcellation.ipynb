{
 "cells": [
  {
   "cell_type": "markdown",
   "metadata": {},
   "source": [
    "## Extract functional MRI data\n",
    "\n",
    "The goal is to extract the fmri data (that were recorded during movie viewing) via a masker and save them to disk.\n",
    "\n",
    "Note: Due to the large size of the dataset, this is done from a harddisk (after downloading the data from openNeuro). Thus, this step is documented, but cannot be exectuted unless you download and preprocess the data exactly as indicated."
   ]
  },
  {
   "cell_type": "markdown",
   "metadata": {},
   "source": [
    "#### import modules"
   ]
  },
  {
   "cell_type": "code",
   "execution_count": null,
   "metadata": {},
   "outputs": [],
   "source": [
    "import pandas as pd\n",
    "import matplotlib.pyplot as plt\n",
    "%matplotlib inline\n",
    "import numpy as np\n",
    "import sys, os, nilearn, shutil, glob\n",
    "from nilearn import input_data, datasets\n",
    "from nilearn import datasets, plotting\n",
    "from nilearn.image import new_img_like, load_img, get_data\n",
    "from nilearn.interfaces.fmriprep import load_confounds\n",
    "from nilearn import input_data, datasets"
   ]
  },
  {
   "cell_type": "markdown",
   "metadata": {},
   "source": [
    "#### set up the brain masker"
   ]
  },
  {
   "cell_type": "code",
   "execution_count": null,
   "metadata": {},
   "outputs": [],
   "source": [
    "shen_dictionary   = np.load('/Users/ralfschmaelzle/Documents/GITHUB/nomcomm/PAPERS_WORKING/partlycloudy_twins/data/02_rois_masks_maps/shen_dictionary.npy', allow_pickle = True).item()\n",
    "shen_file         = '/Users/ralfschmaelzle/Documents//GITHUB/nomcomm/PAPERS_WORKING/partlycloudy_twins/data/02_rois_masks_maps/shen_2mm_268_parcellation.nii'\n",
    "path_dir          = \"/Users/ralfschmaelzle/Documents/GITHUB/nomcomm/PAPERS_WORKING/partlycloudy_twins/data/03_extract_ts/\"\n",
    "\n",
    "all293_rois_file  = '/Users/ralfschmaelzle/Documents/GITHUB/nomcomm/PAPERS_WORKING/partlycloudy_twins/data/02_rois_masks_maps/allcombined.nii'\n",
    "\n",
    "all293_masker     = input_data.NiftiLabelsMasker(all293_rois_file, \n",
    "                                             detrend     = True, \n",
    "                                             standardize = True,\n",
    "                                             high_pass   = 0.01, \n",
    "                                             t_r         = 0.8, \n",
    "                                             low_pass    = 0.12 );\n",
    "\n",
    "all293_masker.fit('/Volumes/Backup Plus/twins_fmriprep/sub-0001/ses-02/func/sub-0001_ses-02_task-partlycloudy_space-MNI152NLin2009cAsym_desc-preproc_bold.nii.gz')"
   ]
  },
  {
   "cell_type": "markdown",
   "metadata": {},
   "source": [
    "#### set up files"
   ]
  },
  {
   "cell_type": "code",
   "execution_count": null,
   "metadata": {},
   "outputs": [],
   "source": [
    "mylist = [f for f in glob.glob(\"/Volumes/Backup Plus/twins_fmriprep/sub*/ses-02/func/*_ses-02_task-partlycloudy_space-MNI152NLin2009cAsym_desc-preproc_bold.nii.gz\")]\n",
    "print(len(mylist)) #[-84:65]\n",
    "mylist[:3]"
   ]
  },
  {
   "cell_type": "code",
   "execution_count": null,
   "metadata": {},
   "outputs": [],
   "source": [
    "for curr_file in mylist:\n",
    "\n",
    "    confounds_simple, sample_mask = load_confounds(\n",
    "                                     curr_file,    \n",
    "                                     strategy=[\"motion\", \"wm_csf\"],\n",
    "                                     motion=\"basic\", \n",
    "                                     wm_csf=\"basic\")\n",
    "\n",
    "    curr_out_file = curr_file[-84:65]\n",
    "    curr_out_file_path = path_dir + curr_out_file + '_LTR_Z_THP001_LP012_shen268_pauli16_aan9.npy'\n",
    "    print(curr_out_file_path)\n",
    "\n",
    "    if not os.path.exists(curr_out_file_path):\n",
    "            time_series = all293_masker.fit_transform(curr_file,confounds=confounds_simple)\n",
    "        \n",
    "            np.save(curr_out_file_path, time_series) "
   ]
  }
 ],
 "metadata": {
  "kernelspec": {
   "display_name": "Python 3 (ipykernel)",
   "language": "python",
   "name": "python3"
  },
  "language_info": {
   "codemirror_mode": {
    "name": "ipython",
    "version": 3
   },
   "file_extension": ".py",
   "mimetype": "text/x-python",
   "name": "python",
   "nbconvert_exporter": "python",
   "pygments_lexer": "ipython3",
   "version": "3.11.5"
  }
 },
 "nbformat": 4,
 "nbformat_minor": 4
}
