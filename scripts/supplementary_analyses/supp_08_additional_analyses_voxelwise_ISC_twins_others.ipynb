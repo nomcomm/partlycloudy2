{
 "cells": [
  {
   "cell_type": "markdown",
   "id": "illegal-remark",
   "metadata": {},
   "source": [
    "### ISC among twins and control analyses\n",
    "\n",
    "The goal of this notebook is to measure ISC among twins and compare it against control-twins (i.e. age- and sex-matched controls) non-twins.\n",
    "\n",
    "The hypothesis is that ISC for twin-pairs will be generally higher than for non-twin pairs (or controls). We will further concretize the control-analyses below and in the follow-up notebooks.\n",
    "\n",
    "#### Import modules"
   ]
  },
  {
   "cell_type": "code",
   "execution_count": 1,
   "id": "5c08d0ae-dc17-4d21-83f7-8998c6a18ae9",
   "metadata": {},
   "outputs": [],
   "source": [
    "#!pip install tqdm"
   ]
  },
  {
   "cell_type": "code",
   "execution_count": 2,
   "id": "photographic-eligibility",
   "metadata": {},
   "outputs": [
    {
     "name": "stderr",
     "output_type": "stream",
     "text": [
      "/Users/schmaelz/miniconda3/envs/partlycloudy2env/lib/python3.11/site-packages/nilearn/input_data/__init__.py:23: FutureWarning: The import path 'nilearn.input_data' is deprecated in version 0.9. Importing from 'nilearn.input_data' will be possible at least until release 0.13.0. Please import from 'nilearn.maskers' instead.\n",
      "  warnings.warn(message, FutureWarning)\n"
     ]
    }
   ],
   "source": [
    "import matplotlib.pyplot as plt\n",
    "%matplotlib inline\n",
    "import sys, os, nilearn, pickle, glob, shutil, itertools, random\n",
    "from nilearn import plotting, input_data, datasets\n",
    "import numpy as np\n",
    "import pandas as pd\n",
    "from statsmodels.stats.multitest import multipletests\n",
    "from utils import *\n",
    "import warnings\n",
    "from tqdm import tqdm\n",
    "warnings.simplefilter(\"ignore\")\n",
    "from nilearn.masking import compute_brain_mask, apply_mask\n",
    "from nilearn import image\n",
    "\n",
    "#!pip install surfplot\n",
    "#!pip install neuromaps\n",
    "#!pip install matplotlib --upgrade\n",
    "\n",
    "n_regions       = 124045\n"
   ]
  },
  {
   "cell_type": "markdown",
   "id": "eligible-portrait",
   "metadata": {},
   "source": [
    "#### Reading in Twin-list and computing ISC among twins"
   ]
  },
  {
   "cell_type": "code",
   "execution_count": 3,
   "id": "amino-gentleman",
   "metadata": {},
   "outputs": [
    {
     "name": "stdout",
     "output_type": "stream",
     "text": [
      "[['sub-0001', 'sub-0018'], ['sub-0003', 'sub-0233'], ['sub-0004', 'sub-0420']]\n"
     ]
    },
    {
     "data": {
      "text/html": [
       "<div>\n",
       "<style scoped>\n",
       "    .dataframe tbody tr th:only-of-type {\n",
       "        vertical-align: middle;\n",
       "    }\n",
       "\n",
       "    .dataframe tbody tr th {\n",
       "        vertical-align: top;\n",
       "    }\n",
       "\n",
       "    .dataframe thead th {\n",
       "        text-align: right;\n",
       "    }\n",
       "</style>\n",
       "<table border=\"1\" class=\"dataframe\">\n",
       "  <thead>\n",
       "    <tr style=\"text-align: right;\">\n",
       "      <th></th>\n",
       "      <th>Unnamed: 0</th>\n",
       "      <th>family_id</th>\n",
       "      <th>twin_A_id</th>\n",
       "      <th>twin_A_age</th>\n",
       "      <th>twin_A_sex</th>\n",
       "      <th>twin_B_id</th>\n",
       "      <th>twin_B_age</th>\n",
       "      <th>twin_B_sex</th>\n",
       "    </tr>\n",
       "  </thead>\n",
       "  <tbody>\n",
       "    <tr>\n",
       "      <th>0</th>\n",
       "      <td>0</td>\n",
       "      <td>fam-0001</td>\n",
       "      <td>sub-0001</td>\n",
       "      <td>14.0</td>\n",
       "      <td>M</td>\n",
       "      <td>sub-0018</td>\n",
       "      <td>14.0</td>\n",
       "      <td>M</td>\n",
       "    </tr>\n",
       "    <tr>\n",
       "      <th>1</th>\n",
       "      <td>1</td>\n",
       "      <td>fam-0116</td>\n",
       "      <td>sub-0003</td>\n",
       "      <td>14.0</td>\n",
       "      <td>M</td>\n",
       "      <td>sub-0233</td>\n",
       "      <td>14.0</td>\n",
       "      <td>F</td>\n",
       "    </tr>\n",
       "    <tr>\n",
       "      <th>2</th>\n",
       "      <td>2</td>\n",
       "      <td>fam-0002</td>\n",
       "      <td>sub-0004</td>\n",
       "      <td>11.0</td>\n",
       "      <td>M</td>\n",
       "      <td>sub-0420</td>\n",
       "      <td>11.0</td>\n",
       "      <td>M</td>\n",
       "    </tr>\n",
       "    <tr>\n",
       "      <th>3</th>\n",
       "      <td>3</td>\n",
       "      <td>fam-0088</td>\n",
       "      <td>sub-0005</td>\n",
       "      <td>12.0</td>\n",
       "      <td>F</td>\n",
       "      <td>sub-0178</td>\n",
       "      <td>12.0</td>\n",
       "      <td>F</td>\n",
       "    </tr>\n",
       "    <tr>\n",
       "      <th>4</th>\n",
       "      <td>4</td>\n",
       "      <td>fam-0178</td>\n",
       "      <td>sub-0006</td>\n",
       "      <td>15.0</td>\n",
       "      <td>M</td>\n",
       "      <td>sub-0329</td>\n",
       "      <td>15.0</td>\n",
       "      <td>F</td>\n",
       "    </tr>\n",
       "  </tbody>\n",
       "</table>\n",
       "</div>"
      ],
      "text/plain": [
       "   Unnamed: 0 family_id twin_A_id  twin_A_age twin_A_sex twin_B_id  \\\n",
       "0           0  fam-0001  sub-0001        14.0          M  sub-0018   \n",
       "1           1  fam-0116  sub-0003        14.0          M  sub-0233   \n",
       "2           2  fam-0002  sub-0004        11.0          M  sub-0420   \n",
       "3           3  fam-0088  sub-0005        12.0          F  sub-0178   \n",
       "4           4  fam-0178  sub-0006        15.0          M  sub-0329   \n",
       "\n",
       "   twin_B_age twin_B_sex  \n",
       "0        14.0          M  \n",
       "1        14.0          F  \n",
       "2        11.0          M  \n",
       "3        12.0          F  \n",
       "4        15.0          F  "
      ]
     },
     "execution_count": 3,
     "metadata": {},
     "output_type": "execute_result"
    }
   ],
   "source": [
    "twin_df = pd.read_csv('../data/00_dataset_info/twin_df.csv')\n",
    "\n",
    "twin_list = twin_df[['twin_A_id','twin_B_id']].values.tolist()\n",
    "print(twin_list[:3])\n",
    "\n",
    "twin_df.head()"
   ]
  },
  {
   "cell_type": "code",
   "execution_count": 4,
   "id": "7c6aa055-0b07-47b4-9569-e6d56c22fdbb",
   "metadata": {},
   "outputs": [
    {
     "data": {
      "text/plain": [
       "[['sub-0001', 'sub-0018']]"
      ]
     },
     "execution_count": 4,
     "metadata": {},
     "output_type": "execute_result"
    }
   ],
   "source": [
    "twin_list[:1]"
   ]
  },
  {
   "cell_type": "code",
   "execution_count": 5,
   "id": "available-hardware",
   "metadata": {},
   "outputs": [
    {
     "name": "stdout",
     "output_type": "stream",
     "text": [
      " \n"
     ]
    }
   ],
   "source": [
    "'''\n",
    "# Computing ISC (functional) for the real twins\n",
    "n_twins         = len(twin_list)\n",
    "iscs_curr_twin_pair   = np.zeros((n_regions+1)) #the additional line is for the anatomical similarity\n",
    "    \n",
    "for twin_pair in twin_list:\n",
    "        filename_1 = '/Volumes/Backup Plus/twins_partly_cloudy_extracted/' + twin_pair[0]  + '_LTR_Z_THP001_LP012_voxelwise.npy'\n",
    "        twin1_data = np.load(filename_1) \n",
    "        filename_2 = '/Volumes/Backup Plus/twins_partly_cloudy_extracted/' + twin_pair[1]  + '_LTR_Z_THP001_LP012_voxelwise.npy'\n",
    "        twin2_data = np.load(filename_2) \n",
    "\n",
    "        for curr_region in tqdm(range(n_regions)):        \n",
    "            iscs_curr_twin_pair[curr_region] = (np.corrcoef(twin1_data[:,curr_region], twin2_data[:,curr_region])[0,1])\n",
    "     \n",
    "\n",
    "        file_a = twin_pair[0]\n",
    "        file_b = twin_pair[1] \n",
    "\n",
    "        f1 = '../data/04_anatomy/' + file_a + '_ses-02_space-MNI152NLin2009cAsym_desc-preproc_T1w.nii.gz'\n",
    "        f1m = '../data/04_anatomy/' + file_a + '_ses-02_space-MNI152NLin2009cAsym_desc-brain_mask.nii.gz'\n",
    "        f1_masked = apply_mask(f1, compute_brain_mask(f1m, threshold=0.01, mask_type='whole-brain'))\n",
    "\n",
    "        f2 = '../data/04_anatomy/' + file_b + '_ses-02_space-MNI152NLin2009cAsym_desc-preproc_T1w.nii.gz'\n",
    "        f2m = '../data/04_anatomy/' + file_b + '_ses-02_space-MNI152NLin2009cAsym_desc-brain_mask.nii.gz'\n",
    "        f2_masked = apply_mask(f2, compute_brain_mask(f2m, threshold=0.01, mask_type='whole-brain'))\n",
    "\n",
    "        anatomical_similarity_twins = np.corrcoef(f1_masked, f2_masked)[0,1]\n",
    "        iscs_curr_twin_pair[(curr_region+1)] = anatomical_similarity_twins\n",
    "        outpath = '/Volumes/Backup Plus/twins_partly_cloudy_extracted/dyadic_isc/' + 'twin_isc_' + twin_pair[0] + '_' + twin_pair[1] + '.npy' \n",
    "        np.save(outpath, iscs_curr_twin_pair) #'''\n",
    "print(' ')"
   ]
  },
  {
   "cell_type": "markdown",
   "id": "interior-memorabilia",
   "metadata": {},
   "source": [
    "#### Reading in ControlTwin-List and computing ISC among control-twins"
   ]
  },
  {
   "cell_type": "code",
   "execution_count": 6,
   "id": "upper-solid",
   "metadata": {},
   "outputs": [
    {
     "name": "stdout",
     "output_type": "stream",
     "text": [
      "[['sub-0001', 'sub-0003'], ['sub-0004', 'sub-0151'], ['sub-0005', 'sub-0043']]\n"
     ]
    },
    {
     "data": {
      "text/html": [
       "<div>\n",
       "<style scoped>\n",
       "    .dataframe tbody tr th:only-of-type {\n",
       "        vertical-align: middle;\n",
       "    }\n",
       "\n",
       "    .dataframe tbody tr th {\n",
       "        vertical-align: top;\n",
       "    }\n",
       "\n",
       "    .dataframe thead th {\n",
       "        text-align: right;\n",
       "    }\n",
       "</style>\n",
       "<table border=\"1\" class=\"dataframe\">\n",
       "  <thead>\n",
       "    <tr style=\"text-align: right;\">\n",
       "      <th></th>\n",
       "      <th>family_id</th>\n",
       "      <th>twin_A_id</th>\n",
       "      <th>twin_A_age</th>\n",
       "      <th>twin_A_sex</th>\n",
       "      <th>controlfamily_id</th>\n",
       "      <th>controltwin_B_id</th>\n",
       "      <th>controltwin_B_age</th>\n",
       "      <th>controltwin_B_sex</th>\n",
       "    </tr>\n",
       "  </thead>\n",
       "  <tbody>\n",
       "    <tr>\n",
       "      <th>0</th>\n",
       "      <td>fam-0001</td>\n",
       "      <td>sub-0001</td>\n",
       "      <td>14</td>\n",
       "      <td>M</td>\n",
       "      <td>fam-0116</td>\n",
       "      <td>sub-0003</td>\n",
       "      <td>14</td>\n",
       "      <td>M</td>\n",
       "    </tr>\n",
       "    <tr>\n",
       "      <th>1</th>\n",
       "      <td>fam-0002</td>\n",
       "      <td>sub-0004</td>\n",
       "      <td>11</td>\n",
       "      <td>M</td>\n",
       "      <td>fam-0038</td>\n",
       "      <td>sub-0151</td>\n",
       "      <td>11</td>\n",
       "      <td>M</td>\n",
       "    </tr>\n",
       "    <tr>\n",
       "      <th>2</th>\n",
       "      <td>fam-0088</td>\n",
       "      <td>sub-0005</td>\n",
       "      <td>12</td>\n",
       "      <td>F</td>\n",
       "      <td>fam-0151</td>\n",
       "      <td>sub-0043</td>\n",
       "      <td>12</td>\n",
       "      <td>F</td>\n",
       "    </tr>\n",
       "    <tr>\n",
       "      <th>3</th>\n",
       "      <td>fam-0178</td>\n",
       "      <td>sub-0006</td>\n",
       "      <td>15</td>\n",
       "      <td>M</td>\n",
       "      <td>fam-0007</td>\n",
       "      <td>sub-0017</td>\n",
       "      <td>15</td>\n",
       "      <td>M</td>\n",
       "    </tr>\n",
       "    <tr>\n",
       "      <th>4</th>\n",
       "      <td>fam-0003</td>\n",
       "      <td>sub-0007</td>\n",
       "      <td>10</td>\n",
       "      <td>F</td>\n",
       "      <td>fam-0137</td>\n",
       "      <td>sub-0261</td>\n",
       "      <td>10</td>\n",
       "      <td>F</td>\n",
       "    </tr>\n",
       "  </tbody>\n",
       "</table>\n",
       "</div>"
      ],
      "text/plain": [
       "  family_id twin_A_id  twin_A_age twin_A_sex controlfamily_id  \\\n",
       "0  fam-0001  sub-0001          14          M         fam-0116   \n",
       "1  fam-0002  sub-0004          11          M         fam-0038   \n",
       "2  fam-0088  sub-0005          12          F         fam-0151   \n",
       "3  fam-0178  sub-0006          15          M         fam-0007   \n",
       "4  fam-0003  sub-0007          10          F         fam-0137   \n",
       "\n",
       "  controltwin_B_id  controltwin_B_age controltwin_B_sex  \n",
       "0         sub-0003                 14                 M  \n",
       "1         sub-0151                 11                 M  \n",
       "2         sub-0043                 12                 F  \n",
       "3         sub-0017                 15                 M  \n",
       "4         sub-0261                 10                 F  "
      ]
     },
     "execution_count": 6,
     "metadata": {},
     "output_type": "execute_result"
    }
   ],
   "source": [
    "controltwin_df = pd.read_csv('../data/00_dataset_info/matched_controltwin_df.csv')\n",
    "\n",
    "controltwin_list = controltwin_df[['twin_A_id','controltwin_B_id']].values.tolist()\n",
    "print(controltwin_list[:3])\n",
    "\n",
    "controltwin_df.head()"
   ]
  },
  {
   "cell_type": "code",
   "execution_count": 7,
   "id": "eight-vertex",
   "metadata": {},
   "outputs": [
    {
     "name": "stdout",
     "output_type": "stream",
     "text": [
      " \n"
     ]
    }
   ],
   "source": [
    "'''\n",
    "# Computing ISC (functional) for the real twins\n",
    "n_twins         = len(controltwin_list)\n",
    "iscs_curr_twin_pair   = np.zeros((n_regions+1)) #the additional line is for the anatomical similarity\n",
    "    \n",
    "for twin_pair in controltwin_list:\n",
    "        filename_1 = '/Volumes/Backup Plus/twins_partly_cloudy_extracted/' + twin_pair[0]  + '_LTR_Z_THP001_LP012_voxelwise.npy'\n",
    "        twin1_data = np.load(filename_1) \n",
    "        filename_2 = '/Volumes/Backup Plus/twins_partly_cloudy_extracted/' + twin_pair[1]  + '_LTR_Z_THP001_LP012_voxelwise.npy'\n",
    "        twin2_data = np.load(filename_2) \n",
    "\n",
    "        for curr_region in tqdm(range(n_regions)):        \n",
    "            iscs_curr_twin_pair[curr_region] = (np.corrcoef(twin1_data[:,curr_region], twin2_data[:,curr_region])[0,1])\n",
    "     \n",
    "\n",
    "        file_a = twin_pair[0]\n",
    "        file_b = twin_pair[1] \n",
    "\n",
    "        f1 = '../data/04_anatomy/' + file_a + '_ses-02_space-MNI152NLin2009cAsym_desc-preproc_T1w.nii.gz'\n",
    "        f1m = '../data/04_anatomy/' + file_a + '_ses-02_space-MNI152NLin2009cAsym_desc-brain_mask.nii.gz'\n",
    "        f1_masked = apply_mask(f1, compute_brain_mask(f1m, threshold=0.01, mask_type='whole-brain'))\n",
    "\n",
    "        f2 = '../data/04_anatomy/' + file_b + '_ses-02_space-MNI152NLin2009cAsym_desc-preproc_T1w.nii.gz'\n",
    "        f2m = '../data/04_anatomy/' + file_b + '_ses-02_space-MNI152NLin2009cAsym_desc-brain_mask.nii.gz'\n",
    "        f2_masked = apply_mask(f2, compute_brain_mask(f2m, threshold=0.01, mask_type='whole-brain'))\n",
    "\n",
    "        anatomical_similarity_twins = np.corrcoef(f1_masked, f2_masked)[0,1]\n",
    "        iscs_curr_twin_pair[(curr_region+1)] = anatomical_similarity_twins\n",
    "        outpath = '/Volumes/Backup Plus/twins_partly_cloudy_extracted/dyadic_isc/' + 'controltwin_isc_' + twin_pair[0] + '_' + twin_pair[1] + '.npy' \n",
    "        np.save(outpath, iscs_curr_twin_pair) #'''\n",
    "print(' ')"
   ]
  },
  {
   "cell_type": "markdown",
   "id": "southwest-viewer",
   "metadata": {},
   "source": [
    "#### Computing ISC among random people"
   ]
  },
  {
   "cell_type": "code",
   "execution_count": 8,
   "id": "2fc5f0f2-f04e-42db-8869-b41c790ffdb3",
   "metadata": {},
   "outputs": [
    {
     "data": {
      "text/plain": [
       "124045"
      ]
     },
     "execution_count": 8,
     "metadata": {},
     "output_type": "execute_result"
    }
   ],
   "source": [
    "n_regions"
   ]
  },
  {
   "cell_type": "code",
   "execution_count": 9,
   "id": "293806a0-492a-4c7d-92a7-eaa7b24f37c9",
   "metadata": {},
   "outputs": [
    {
     "name": "stdout",
     "output_type": "stream",
     "text": [
      " \n"
     ]
    }
   ],
   "source": [
    "'''# Computing ISC (functional) for random others\n",
    "n_twins         = len(controltwin_list)\n",
    "iscs_curr_twin_pair   = np.zeros((n_regions+1)) #the additional line is for the anatomical similarity\n",
    "    \n",
    "for twin_pair in twin_list:\n",
    "        filename_1 = '/Volumes/Backup Plus/twins_partly_cloudy_extracted/' + twin_pair[0]  + '_LTR_Z_THP001_LP012_voxelwise.npy'\n",
    "        twin1_data = np.load(filename_1) \n",
    "        \n",
    "        #from the remaining people, randomly chose one, excluding the actual twin\n",
    "        other_twin_list = twin_df['twin_B_id'].values.tolist()\n",
    "        other_people = [x for x in other_twin_list if x != twin_pair[1]]  \n",
    "        no_twin_id = random.choice(other_people)\n",
    "        no_twin_filename_1 = '/Volumes/Backup Plus/twins_partly_cloudy_extracted/' + no_twin_id  + '_LTR_Z_THP001_LP012_voxelwise.npy'\n",
    "        no_twin_data1 = np.load(no_twin_filename_1) \n",
    "\n",
    "        for curr_region in tqdm(range(n_regions)):        \n",
    "            iscs_curr_twin_pair[curr_region] = (np.corrcoef(twin1_data[:,curr_region], no_twin_data1[:,curr_region])[0,1])\n",
    "     \n",
    "\n",
    "        file_a = twin_pair[0]\n",
    "        file_b = twin_pair[1] \n",
    "\n",
    "        f1 = '../data/04_anatomy/' + file_a + '_ses-02_space-MNI152NLin2009cAsym_desc-preproc_T1w.nii.gz'\n",
    "        f1m = '../data/04_anatomy/' + file_a + '_ses-02_space-MNI152NLin2009cAsym_desc-brain_mask.nii.gz'\n",
    "        f1_masked = apply_mask(f1, compute_brain_mask(f1m, threshold=0.01, mask_type='whole-brain'))\n",
    "\n",
    "        f2 = '../data/04_anatomy/' + no_twin_id + '_ses-02_space-MNI152NLin2009cAsym_desc-preproc_T1w.nii.gz'\n",
    "        f2m = '../data/04_anatomy/' + no_twin_id + '_ses-02_space-MNI152NLin2009cAsym_desc-brain_mask.nii.gz'\n",
    "        f2_masked = apply_mask(f2, compute_brain_mask(f2m, threshold=0.01, mask_type='whole-brain'))\n",
    "\n",
    "        anatomical_similarity_twins = np.corrcoef(f1_masked, f2_masked)[0,1]\n",
    "        iscs_curr_twin_pair[(curr_region+1)] = anatomical_similarity_twins\n",
    "        outpath = '/Volumes/Backup Plus/twins_partly_cloudy_extracted/dyadic_isc/' + 'notwin_isc_' + twin_pair[0] + '_' + twin_pair[1] + '.npy' \n",
    "        np.save(outpath, iscs_curr_twin_pair) #'''\n",
    "print(' ')"
   ]
  },
  {
   "cell_type": "markdown",
   "id": "cdd5e5a1-8161-49c6-987a-ea59690d165d",
   "metadata": {},
   "source": [
    "### After having precomputed these results, we can now load, combine and plot them"
   ]
  },
  {
   "cell_type": "code",
   "execution_count": 10,
   "id": "07dd4f14-ab47-403e-8e9c-ca38db5e3c1f",
   "metadata": {},
   "outputs": [],
   "source": [
    "# load twin_data\n",
    "twin_isc_list = []\n",
    "for twin_pair in twin_list:\n",
    "        loadpath = '/Volumes/Backup Plus/twins_partly_cloudy_extracted/dyadic_isc/' + 'twin_isc_' + twin_pair[0] + '_' + twin_pair[1] + '.npy' \n",
    "        twin_isc_list.append(np.load(loadpath))\n",
    "\n",
    "twin_isc_array = np.asarray(twin_isc_list)\n",
    "del twin_isc_list\n",
    "\n",
    "# load controltwin_data\n",
    "control_twin_isc_list = []\n",
    "for twin_pair in controltwin_list:\n",
    "        loadpath = '/Volumes/Backup Plus/twins_partly_cloudy_extracted/dyadic_isc/' + 'controltwin_isc_' + twin_pair[0] + '_' + twin_pair[1] + '.npy' \n",
    "        control_twin_isc_list.append(np.load(loadpath))\n",
    "\n",
    "controltwin_isc_array = np.asarray(control_twin_isc_list)\n",
    "del control_twin_isc_list\n",
    "\n",
    "\n",
    "\n",
    "# load notwin_data\n",
    "notwin_list = [f for f in glob.glob(\"/Volumes/Backup Plus/twins_partly_cloudy_extracted/dyadic_isc/notwin_isc_*\")]\n",
    "no_twin_isc_list = []\n",
    "for twin_pair in notwin_list:\n",
    "        loadpath = twin_pair \n",
    "        no_twin_isc_list.append(np.load(loadpath))\n",
    "\n",
    "notwin_isc_array = np.asarray(no_twin_isc_list)\n",
    "del notwin_list"
   ]
  },
  {
   "cell_type": "code",
   "execution_count": 11,
   "id": "5b24fc4c-d06c-4a7d-b18f-ce18409ef27b",
   "metadata": {},
   "outputs": [
    {
     "name": "stdout",
     "output_type": "stream",
     "text": [
      "(100, 124046)\n",
      "(100, 124046)\n",
      "(100, 124046)\n"
     ]
    }
   ],
   "source": [
    "print(twin_isc_array.shape)\n",
    "print(controltwin_isc_array.shape)\n",
    "print(notwin_isc_array.shape)\n"
   ]
  },
  {
   "cell_type": "markdown",
   "id": "running-suite",
   "metadata": {},
   "source": [
    "#### Compute averages and plot"
   ]
  },
  {
   "cell_type": "code",
   "execution_count": 12,
   "id": "exposed-politics",
   "metadata": {},
   "outputs": [
    {
     "name": "stdout",
     "output_type": "stream",
     "text": [
      "(124046,)\n",
      "(124046,)\n",
      "(124046,)\n"
     ]
    }
   ],
   "source": [
    "reg_mean_twin_iscs        = np.mean(twin_isc_array, axis = 0)\n",
    "reg_mean_controltwin_iscs = np.mean(controltwin_isc_array, axis = 0)\n",
    "reg_mean_notwin_iscs      = np.mean(notwin_isc_array, axis = 0)\n",
    "\n",
    "print(reg_mean_twin_iscs.shape)\n",
    "print(reg_mean_controltwin_iscs.shape)\n",
    "print(reg_mean_notwin_iscs.shape)"
   ]
  },
  {
   "cell_type": "code",
   "execution_count": 13,
   "id": "instrumental-encounter",
   "metadata": {},
   "outputs": [],
   "source": [
    "#plt.figure(figsize = (10,2));\n",
    "#plt.plot(reg_mean_notwin_iscs, color = 'blue', label='no twins');\n",
    "#plt.plot(reg_mean_controltwin_iscs, color = 'green', label='no twins');\n",
    "#plt.plot(reg_mean_twin_iscs, color = 'red', label='twins');\n",
    "#plt.legend();"
   ]
  },
  {
   "cell_type": "code",
   "execution_count": 14,
   "id": "developing-kentucky",
   "metadata": {},
   "outputs": [
    {
     "data": {
      "text/plain": [
       "(124045,)"
      ]
     },
     "execution_count": 14,
     "metadata": {},
     "output_type": "execute_result"
    }
   ],
   "source": [
    "reg_mean_twin_iscs[:-1].shape"
   ]
  },
  {
   "cell_type": "code",
   "execution_count": 15,
   "id": "cbf195b3-6993-423f-b3ef-1f44b3b737bf",
   "metadata": {},
   "outputs": [
    {
     "data": {
      "text/html": [
       "<style>#sk-container-id-1 {color: black;}#sk-container-id-1 pre{padding: 0;}#sk-container-id-1 div.sk-toggleable {background-color: white;}#sk-container-id-1 label.sk-toggleable__label {cursor: pointer;display: block;width: 100%;margin-bottom: 0;padding: 0.3em;box-sizing: border-box;text-align: center;}#sk-container-id-1 label.sk-toggleable__label-arrow:before {content: \"▸\";float: left;margin-right: 0.25em;color: #696969;}#sk-container-id-1 label.sk-toggleable__label-arrow:hover:before {color: black;}#sk-container-id-1 div.sk-estimator:hover label.sk-toggleable__label-arrow:before {color: black;}#sk-container-id-1 div.sk-toggleable__content {max-height: 0;max-width: 0;overflow: hidden;text-align: left;background-color: #f0f8ff;}#sk-container-id-1 div.sk-toggleable__content pre {margin: 0.2em;color: black;border-radius: 0.25em;background-color: #f0f8ff;}#sk-container-id-1 input.sk-toggleable__control:checked~div.sk-toggleable__content {max-height: 200px;max-width: 100%;overflow: auto;}#sk-container-id-1 input.sk-toggleable__control:checked~label.sk-toggleable__label-arrow:before {content: \"▾\";}#sk-container-id-1 div.sk-estimator input.sk-toggleable__control:checked~label.sk-toggleable__label {background-color: #d4ebff;}#sk-container-id-1 div.sk-label input.sk-toggleable__control:checked~label.sk-toggleable__label {background-color: #d4ebff;}#sk-container-id-1 input.sk-hidden--visually {border: 0;clip: rect(1px 1px 1px 1px);clip: rect(1px, 1px, 1px, 1px);height: 1px;margin: -1px;overflow: hidden;padding: 0;position: absolute;width: 1px;}#sk-container-id-1 div.sk-estimator {font-family: monospace;background-color: #f0f8ff;border: 1px dotted black;border-radius: 0.25em;box-sizing: border-box;margin-bottom: 0.5em;}#sk-container-id-1 div.sk-estimator:hover {background-color: #d4ebff;}#sk-container-id-1 div.sk-parallel-item::after {content: \"\";width: 100%;border-bottom: 1px solid gray;flex-grow: 1;}#sk-container-id-1 div.sk-label:hover label.sk-toggleable__label {background-color: #d4ebff;}#sk-container-id-1 div.sk-serial::before {content: \"\";position: absolute;border-left: 1px solid gray;box-sizing: border-box;top: 0;bottom: 0;left: 50%;z-index: 0;}#sk-container-id-1 div.sk-serial {display: flex;flex-direction: column;align-items: center;background-color: white;padding-right: 0.2em;padding-left: 0.2em;position: relative;}#sk-container-id-1 div.sk-item {position: relative;z-index: 1;}#sk-container-id-1 div.sk-parallel {display: flex;align-items: stretch;justify-content: center;background-color: white;position: relative;}#sk-container-id-1 div.sk-item::before, #sk-container-id-1 div.sk-parallel-item::before {content: \"\";position: absolute;border-left: 1px solid gray;box-sizing: border-box;top: 0;bottom: 0;left: 50%;z-index: -1;}#sk-container-id-1 div.sk-parallel-item {display: flex;flex-direction: column;z-index: 1;position: relative;background-color: white;}#sk-container-id-1 div.sk-parallel-item:first-child::after {align-self: flex-end;width: 50%;}#sk-container-id-1 div.sk-parallel-item:last-child::after {align-self: flex-start;width: 50%;}#sk-container-id-1 div.sk-parallel-item:only-child::after {width: 0;}#sk-container-id-1 div.sk-dashed-wrapped {border: 1px dashed gray;margin: 0 0.4em 0.5em 0.4em;box-sizing: border-box;padding-bottom: 0.4em;background-color: white;}#sk-container-id-1 div.sk-label label {font-family: monospace;font-weight: bold;display: inline-block;line-height: 1.2em;}#sk-container-id-1 div.sk-label-container {text-align: center;}#sk-container-id-1 div.sk-container {/* jupyter's `normalize.less` sets `[hidden] { display: none; }` but bootstrap.min.css set `[hidden] { display: none !important; }` so we also need the `!important` here to be able to override the default hidden behavior on the sphinx rendered scikit-learn.org. See: https://github.com/scikit-learn/scikit-learn/issues/21755 */display: inline-block !important;position: relative;}#sk-container-id-1 div.sk-text-repr-fallback {display: none;}</style><div id=\"sk-container-id-1\" class=\"sk-top-container\"><div class=\"sk-text-repr-fallback\"><pre>NiftiMasker(detrend=True, high_pass=0.01, low_pass=0.12,\n",
       "            mask_strategy=&#x27;whole-brain-template&#x27;, standardize=True, t_r=0.8)</pre><b>In a Jupyter environment, please rerun this cell to show the HTML representation or trust the notebook. <br />On GitHub, the HTML representation is unable to render, please try loading this page with nbviewer.org.</b></div><div class=\"sk-container\" hidden><div class=\"sk-item\"><div class=\"sk-estimator sk-toggleable\"><input class=\"sk-toggleable__control sk-hidden--visually\" id=\"sk-estimator-id-1\" type=\"checkbox\" checked><label for=\"sk-estimator-id-1\" class=\"sk-toggleable__label sk-toggleable__label-arrow\">NiftiMasker</label><div class=\"sk-toggleable__content\"><pre>NiftiMasker(detrend=True, high_pass=0.01, low_pass=0.12,\n",
       "            mask_strategy=&#x27;whole-brain-template&#x27;, standardize=True, t_r=0.8)</pre></div></div></div></div></div>"
      ],
      "text/plain": [
       "NiftiMasker(detrend=True, high_pass=0.01, low_pass=0.12,\n",
       "            mask_strategy='whole-brain-template', standardize=True, t_r=0.8)"
      ]
     },
     "execution_count": 15,
     "metadata": {},
     "output_type": "execute_result"
    }
   ],
   "source": [
    "from nilearn.maskers import NiftiMasker\n",
    "brain_masker = NiftiMasker( #mask_img = mask_path,\n",
    "                            detrend     = True, \n",
    "                            standardize = True,\n",
    "                            high_pass   = 0.01, \n",
    "                            t_r         = 0.8, \n",
    "                            low_pass    = 0.12,\n",
    "                            mask_strategy = 'whole-brain-template',\n",
    "                          );\n",
    "brain_masker.fit('/Volumes/Backup Plus/twins_fmriprep/sub-0001/ses-02/func/sub-0001_ses-02_task-partlycloudy_space-MNI152NLin2009cAsym_desc-preproc_bold.nii.gz')\n"
   ]
  },
  {
   "cell_type": "code",
   "execution_count": 16,
   "id": "75e9d583-952f-4db5-8c7e-c020c8cfe43f",
   "metadata": {},
   "outputs": [
    {
     "data": {
      "text/plain": [
       "(124046,)"
      ]
     },
     "execution_count": 16,
     "metadata": {},
     "output_type": "execute_result"
    }
   ],
   "source": [
    "diff = reg_mean_twin_iscs - reg_mean_controltwin_iscs\n",
    "diff.shape"
   ]
  },
  {
   "cell_type": "code",
   "execution_count": 17,
   "id": "3a5796af-1c09-4c33-8f46-d2d078e91b88",
   "metadata": {},
   "outputs": [
    {
     "data": {
      "text/plain": [
       "(1, 124045)"
      ]
     },
     "execution_count": 17,
     "metadata": {},
     "output_type": "execute_result"
    }
   ],
   "source": [
    "r = np.reshape(diff[:-1], (reg_mean_twin_iscs[:-1].shape[0],1)).T\n",
    "r.shape"
   ]
  },
  {
   "cell_type": "code",
   "execution_count": null,
   "id": "1a74dc61-4d61-4f4a-9f4c-fb6711cf04a5",
   "metadata": {},
   "outputs": [],
   "source": [
    "plt.hist(diff)"
   ]
  },
  {
   "cell_type": "code",
   "execution_count": 19,
   "id": "db1a992a-18b2-4328-a4fe-689e7f0bd2d9",
   "metadata": {},
   "outputs": [
    {
     "data": {
      "text/plain": [
       "<nibabel.nifti1.Nifti1Image at 0x16a9cc950>"
      ]
     },
     "execution_count": 19,
     "metadata": {},
     "output_type": "execute_result"
    }
   ],
   "source": [
    "curr_img = brain_masker.inverse_transform(r);\n",
    "curr_img\n"
   ]
  },
  {
   "cell_type": "code",
   "execution_count": null,
   "id": "b9e6a0b4-2a11-4a79-ad4b-cd034ec916c9",
   "metadata": {},
   "outputs": [],
   "source": [
    "#curr_isc = isc_result_dict['ISC']  #np.reshape(ISC, (293,1)).T\n",
    "plt.figure(figsize = (20,15));\n",
    "nilearn.plotting.plot_stat_map(nilearn.image.index_img(curr_img,0), \n",
    "                                   threshold      = 0.02, \n",
    "                                   vmax           = 0.05, \n",
    "                                   draw_cross     = True,\n",
    "                                   display_mode   = 'z',\n",
    "                                   cut_coords     = [ -20, -10, 0, 10, 20,  30, 40, 50],\n",
    "                                   symmetric_cbar = True,\n",
    "                                   annotate       = True,);\n",
    "\n",
    "plt.show();"
   ]
  },
  {
   "cell_type": "code",
   "execution_count": null,
   "id": "140a62a2-c5da-4bc6-a92e-86ae32f1193b",
   "metadata": {},
   "outputs": [],
   "source": []
  }
 ],
 "metadata": {
  "kernelspec": {
   "display_name": "Python 3 (ipykernel)",
   "language": "python",
   "name": "python3"
  },
  "language_info": {
   "codemirror_mode": {
    "name": "ipython",
    "version": 3
   },
   "file_extension": ".py",
   "mimetype": "text/x-python",
   "name": "python",
   "nbconvert_exporter": "python",
   "pygments_lexer": "ipython3",
   "version": "3.11.5"
  }
 },
 "nbformat": 4,
 "nbformat_minor": 5
}
