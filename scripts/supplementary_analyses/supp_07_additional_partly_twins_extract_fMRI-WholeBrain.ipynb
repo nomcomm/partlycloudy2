{
 "cells": [
  {
   "cell_type": "markdown",
   "metadata": {},
   "source": [
    "## Extract functional MRI data\n",
    "\n",
    "The goal is to extract the fmri data (that were recorded during movie viewing) via a masker and save them to disk.\n",
    "\n",
    "Note: Due to the large size of the dataset, this is done from a harddisk (after downloading the data from openNeuro). Thus, this step is documented, but cannot be exectuted unless you download and preprocess the data exactly as indicated."
   ]
  },
  {
   "cell_type": "markdown",
   "metadata": {},
   "source": [
    "#### import modules"
   ]
  },
  {
   "cell_type": "code",
   "execution_count": null,
   "metadata": {},
   "outputs": [],
   "source": [
    "import pandas as pd\n",
    "import matplotlib.pyplot as plt\n",
    "%matplotlib inline\n",
    "import numpy as np\n",
    "import sys, os, nilearn, shutil, glob\n",
    "from nilearn import input_data, datasets\n",
    "from nilearn import datasets, plotting\n",
    "from nilearn.image import new_img_like, load_img, get_data\n",
    "from nilearn.interfaces.fmriprep import load_confounds\n",
    "from nilearn import input_data, datasets"
   ]
  },
  {
   "cell_type": "markdown",
   "metadata": {},
   "source": [
    "#### set up the brain masker"
   ]
  },
  {
   "cell_type": "code",
   "execution_count": null,
   "metadata": {},
   "outputs": [],
   "source": [
    "from nilearn.maskers import NiftiMasker\n",
    "\n",
    "#mask_path = '/Volumes/Backup Plus/twins_fmriprep/sub-0001/ses-02/anat/sub-0001_ses-02_space-MNI152NLin2009cAsym_desc-brain_mask.nii.gz'\n",
    "\n",
    "brain_masker = NiftiMasker( #mask_img = mask_path,\n",
    "                            detrend     = True, \n",
    "                            standardize = True,\n",
    "                            high_pass   = 0.01, \n",
    "                            t_r         = 0.8, \n",
    "                            low_pass    = 0.12,\n",
    "                            mask_strategy = 'whole-brain-template',\n",
    "                          );\n",
    "\n",
    "\n",
    "brain_masker.fit('/Volumes/Backup Plus/twins_fmriprep/sub-0001/ses-02/func/sub-0001_ses-02_task-partlycloudy_space-MNI152NLin2009cAsym_desc-preproc_bold.nii.gz')"
   ]
  },
  {
   "cell_type": "code",
   "execution_count": null,
   "metadata": {},
   "outputs": [],
   "source": [
    "report = brain_masker.generate_report()"
   ]
  },
  {
   "cell_type": "code",
   "execution_count": null,
   "metadata": {},
   "outputs": [],
   "source": [
    "report"
   ]
  },
  {
   "cell_type": "markdown",
   "metadata": {},
   "source": [
    "#### set up files"
   ]
  },
  {
   "cell_type": "code",
   "execution_count": null,
   "metadata": {},
   "outputs": [],
   "source": [
    "mylist = [f for f in glob.glob(\"/Volumes/Backup Plus/twins_fmriprep/sub*/ses-02/func/*_ses-02_task-partlycloudy_space-MNI152NLin2009cAsym_desc-preproc_bold.nii.gz\")]\n",
    "print(len(mylist)) #[-84:65]\n",
    "mylist[:3]"
   ]
  },
  {
   "cell_type": "code",
   "execution_count": null,
   "metadata": {},
   "outputs": [],
   "source": [
    "path_dir          = \"/Volumes/Backup Plus/twins_partly_cloudy_extracted/\"\n"
   ]
  },
  {
   "cell_type": "code",
   "execution_count": null,
   "metadata": {},
   "outputs": [
    {
     "name": "stdout",
     "output_type": "stream",
     "text": [
      "(380, 124045)\n",
      "/Volumes/Backup Plus/twins_partly_cloudy_extracted/sub-0174_LTR_Z_THP001_LP012_voxelwise.npy\n",
      "(380, 124045)\n",
      "/Volumes/Backup Plus/twins_partly_cloudy_extracted/sub-0387_LTR_Z_THP001_LP012_voxelwise.npy\n",
      "(380, 124045)\n",
      "/Volumes/Backup Plus/twins_partly_cloudy_extracted/sub-0038_LTR_Z_THP001_LP012_voxelwise.npy\n",
      "(380, 124045)\n",
      "/Volumes/Backup Plus/twins_partly_cloudy_extracted/sub-0175_LTR_Z_THP001_LP012_voxelwise.npy\n",
      "(380, 124045)\n",
      "/Volumes/Backup Plus/twins_partly_cloudy_extracted/sub-0385_LTR_Z_THP001_LP012_voxelwise.npy\n",
      "(380, 124045)\n",
      "/Volumes/Backup Plus/twins_partly_cloudy_extracted/sub-0041_LTR_Z_THP001_LP012_voxelwise.npy\n",
      "(380, 124045)\n",
      "/Volumes/Backup Plus/twins_partly_cloudy_extracted/sub-0178_LTR_Z_THP001_LP012_voxelwise.npy\n",
      "(380, 124045)\n",
      "/Volumes/Backup Plus/twins_partly_cloudy_extracted/sub-0384_LTR_Z_THP001_LP012_voxelwise.npy\n",
      "(380, 124045)\n",
      "/Volumes/Backup Plus/twins_partly_cloudy_extracted/sub-0042_LTR_Z_THP001_LP012_voxelwise.npy\n",
      "(380, 124045)\n",
      "/Volumes/Backup Plus/twins_partly_cloudy_extracted/sub-0181_LTR_Z_THP001_LP012_voxelwise.npy\n",
      "(380, 124045)\n",
      "/Volumes/Backup Plus/twins_partly_cloudy_extracted/sub-0382_LTR_Z_THP001_LP012_voxelwise.npy\n",
      "(380, 124045)\n",
      "/Volumes/Backup Plus/twins_partly_cloudy_extracted/sub-0043_LTR_Z_THP001_LP012_voxelwise.npy\n",
      "(380, 124045)\n",
      "/Volumes/Backup Plus/twins_partly_cloudy_extracted/sub-0182_LTR_Z_THP001_LP012_voxelwise.npy\n",
      "(380, 124045)\n",
      "/Volumes/Backup Plus/twins_partly_cloudy_extracted/sub-0381_LTR_Z_THP001_LP012_voxelwise.npy\n",
      "(380, 124045)\n",
      "/Volumes/Backup Plus/twins_partly_cloudy_extracted/sub-0044_LTR_Z_THP001_LP012_voxelwise.npy\n",
      "(380, 124045)\n",
      "/Volumes/Backup Plus/twins_partly_cloudy_extracted/sub-0183_LTR_Z_THP001_LP012_voxelwise.npy\n",
      "(380, 124045)\n",
      "/Volumes/Backup Plus/twins_partly_cloudy_extracted/sub-0380_LTR_Z_THP001_LP012_voxelwise.npy\n",
      "(380, 124045)\n",
      "/Volumes/Backup Plus/twins_partly_cloudy_extracted/sub-0045_LTR_Z_THP001_LP012_voxelwise.npy\n",
      "(380, 124045)\n",
      "/Volumes/Backup Plus/twins_partly_cloudy_extracted/sub-0184_LTR_Z_THP001_LP012_voxelwise.npy\n",
      "(380, 124045)\n",
      "/Volumes/Backup Plus/twins_partly_cloudy_extracted/sub-0378_LTR_Z_THP001_LP012_voxelwise.npy\n",
      "(380, 124045)\n",
      "/Volumes/Backup Plus/twins_partly_cloudy_extracted/sub-0047_LTR_Z_THP001_LP012_voxelwise.npy\n",
      "(380, 124045)\n",
      "/Volumes/Backup Plus/twins_partly_cloudy_extracted/sub-0185_LTR_Z_THP001_LP012_voxelwise.npy\n",
      "(380, 124045)\n",
      "/Volumes/Backup Plus/twins_partly_cloudy_extracted/sub-0377_LTR_Z_THP001_LP012_voxelwise.npy\n",
      "(380, 124045)\n",
      "/Volumes/Backup Plus/twins_partly_cloudy_extracted/sub-0048_LTR_Z_THP001_LP012_voxelwise.npy\n",
      "(380, 124045)\n",
      "/Volumes/Backup Plus/twins_partly_cloudy_extracted/sub-0186_LTR_Z_THP001_LP012_voxelwise.npy\n",
      "(380, 124045)\n",
      "/Volumes/Backup Plus/twins_partly_cloudy_extracted/sub-0376_LTR_Z_THP001_LP012_voxelwise.npy\n",
      "(380, 124045)\n",
      "/Volumes/Backup Plus/twins_partly_cloudy_extracted/sub-0049_LTR_Z_THP001_LP012_voxelwise.npy\n",
      "(380, 124045)\n",
      "/Volumes/Backup Plus/twins_partly_cloudy_extracted/sub-0187_LTR_Z_THP001_LP012_voxelwise.npy\n",
      "(380, 124045)\n",
      "/Volumes/Backup Plus/twins_partly_cloudy_extracted/sub-0375_LTR_Z_THP001_LP012_voxelwise.npy\n",
      "(380, 124045)\n",
      "/Volumes/Backup Plus/twins_partly_cloudy_extracted/sub-0050_LTR_Z_THP001_LP012_voxelwise.npy\n",
      "(380, 124045)\n",
      "/Volumes/Backup Plus/twins_partly_cloudy_extracted/sub-0188_LTR_Z_THP001_LP012_voxelwise.npy\n",
      "(380, 124045)\n",
      "/Volumes/Backup Plus/twins_partly_cloudy_extracted/sub-0374_LTR_Z_THP001_LP012_voxelwise.npy\n",
      "(380, 124045)\n",
      "/Volumes/Backup Plus/twins_partly_cloudy_extracted/sub-0051_LTR_Z_THP001_LP012_voxelwise.npy\n",
      "(380, 124045)\n",
      "/Volumes/Backup Plus/twins_partly_cloudy_extracted/sub-0189_LTR_Z_THP001_LP012_voxelwise.npy\n",
      "(380, 124045)\n",
      "/Volumes/Backup Plus/twins_partly_cloudy_extracted/sub-0372_LTR_Z_THP001_LP012_voxelwise.npy\n",
      "(380, 124045)\n",
      "/Volumes/Backup Plus/twins_partly_cloudy_extracted/sub-0053_LTR_Z_THP001_LP012_voxelwise.npy\n",
      "(380, 124045)\n",
      "/Volumes/Backup Plus/twins_partly_cloudy_extracted/sub-0190_LTR_Z_THP001_LP012_voxelwise.npy\n",
      "(380, 124045)\n",
      "/Volumes/Backup Plus/twins_partly_cloudy_extracted/sub-0371_LTR_Z_THP001_LP012_voxelwise.npy\n",
      "(380, 124045)\n",
      "/Volumes/Backup Plus/twins_partly_cloudy_extracted/sub-0054_LTR_Z_THP001_LP012_voxelwise.npy\n",
      "(380, 124045)\n",
      "/Volumes/Backup Plus/twins_partly_cloudy_extracted/sub-0193_LTR_Z_THP001_LP012_voxelwise.npy\n",
      "(380, 124045)\n",
      "/Volumes/Backup Plus/twins_partly_cloudy_extracted/sub-0369_LTR_Z_THP001_LP012_voxelwise.npy\n",
      "(380, 124045)\n",
      "/Volumes/Backup Plus/twins_partly_cloudy_extracted/sub-0055_LTR_Z_THP001_LP012_voxelwise.npy\n",
      "(380, 124045)\n",
      "/Volumes/Backup Plus/twins_partly_cloudy_extracted/sub-0194_LTR_Z_THP001_LP012_voxelwise.npy\n",
      "(380, 124045)\n",
      "/Volumes/Backup Plus/twins_partly_cloudy_extracted/sub-0368_LTR_Z_THP001_LP012_voxelwise.npy\n",
      "(380, 124045)\n",
      "/Volumes/Backup Plus/twins_partly_cloudy_extracted/sub-0057_LTR_Z_THP001_LP012_voxelwise.npy\n",
      "(380, 124045)\n",
      "/Volumes/Backup Plus/twins_partly_cloudy_extracted/sub-0195_LTR_Z_THP001_LP012_voxelwise.npy\n",
      "/Volumes/Backup Plus/twins_partly_cloudy_extracted/sub-0366_LTR_Z_THP001_LP012_voxelwise.npy\n"
     ]
    }
   ],
   "source": [
    "for curr_file in mylist:\n",
    "\n",
    "    confounds_simple, sample_mask = load_confounds(\n",
    "                                     curr_file,    \n",
    "                                     strategy=[\"motion\", \"wm_csf\"],\n",
    "                                     motion=\"basic\", \n",
    "                                     wm_csf=\"basic\")\n",
    "\n",
    "    curr_out_file = curr_file[-84:65]\n",
    "    curr_out_file_path = path_dir + curr_out_file + '_LTR_Z_THP001_LP012_voxelwise.npy'\n",
    "    print(curr_out_file_path)\n",
    "\n",
    "    if not os.path.exists(curr_out_file_path):\n",
    "            time_series = brain_masker.fit_transform(curr_file,confounds=confounds_simple)\n",
    "            print(time_series.shape)\n",
    "        \n",
    "            np.save(curr_out_file_path, time_series) "
   ]
  },
  {
   "cell_type": "code",
   "execution_count": null,
   "metadata": {},
   "outputs": [],
   "source": [
    "124045/(81*96*81)"
   ]
  },
  {
   "cell_type": "code",
   "execution_count": null,
   "metadata": {},
   "outputs": [],
   "source": [
    "os.listdir(path_dir)"
   ]
  },
  {
   "cell_type": "code",
   "execution_count": null,
   "metadata": {},
   "outputs": [],
   "source": []
  }
 ],
 "metadata": {
  "kernelspec": {
   "display_name": "Python 3 (ipykernel)",
   "language": "python",
   "name": "python3"
  },
  "language_info": {
   "codemirror_mode": {
    "name": "ipython",
    "version": 3
   },
   "file_extension": ".py",
   "mimetype": "text/x-python",
   "name": "python",
   "nbconvert_exporter": "python",
   "pygments_lexer": "ipython3",
   "version": "3.10.12"
  }
 },
 "nbformat": 4,
 "nbformat_minor": 4
}
