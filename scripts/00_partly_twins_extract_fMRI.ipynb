{
 "cells": [
  {
   "cell_type": "markdown",
   "metadata": {},
   "source": [
    "## Extract functional MRI data\n",
    "\n",
    "The goal is to extract the fmri data (that were recorded during movie viewing) via a masker and save them to disk.\n",
    "\n",
    "Note: Due to the large size of the dataset, this is done from a harddisk (after downloading the data from openNeuro). Thus, this step is documented, but cannot be exectuted unless you download and preprocess the data exactly as indicated."
   ]
  },
  {
   "cell_type": "markdown",
   "metadata": {},
   "source": [
    "#### import modules"
   ]
  },
  {
   "cell_type": "code",
   "execution_count": 7,
   "metadata": {},
   "outputs": [],
   "source": [
    "import pandas as pd\n",
    "import matplotlib.pyplot as plt\n",
    "%matplotlib inline\n",
    "import numpy as np\n",
    "import sys, os, nilearn, shutil, glob\n",
    "from nilearn import input_data, datasets\n",
    "from nilearn import datasets, plotting\n",
    "from nilearn.image import new_img_like, load_img, get_data\n",
    "from nilearn.interfaces.fmriprep import load_confounds\n",
    "from nilearn import input_data, datasets"
   ]
  },
  {
   "cell_type": "markdown",
   "metadata": {},
   "source": [
    "#### set up the brain masker"
   ]
  },
  {
   "cell_type": "code",
   "execution_count": 2,
   "metadata": {},
   "outputs": [],
   "source": [
    "shen_dictionary   = np.load('/Users/ralfschmaelzle/Documents/GITHUB/nomcomm/PAPERS_WORKING/partlycloudy_twins/data/02_rois_masks_maps/shen_dictionary.npy', allow_pickle = True).item()\n",
    "shen_file         = '/Users/ralfschmaelzle/Documents//GITHUB/nomcomm/PAPERS_WORKING/partlycloudy_twins/data/02_rois_masks_maps/shen_2mm_268_parcellation.nii'\n",
    "path_dir          = \"/Users/ralfschmaelzle/Documents/GITHUB/nomcomm/PAPERS_WORKING/partlycloudy_twins/data/03_extract_ts/\"\n",
    "\n",
    "all293_rois_file  = '/Users/ralfschmaelzle/Documents/GITHUB/nomcomm/PAPERS_WORKING/partlycloudy_twins/data/02_rois_masks_maps/allcombined.nii'\n",
    "\n",
    "all293_masker     = input_data.NiftiLabelsMasker(all293_rois_file, \n",
    "                                             detrend     = True, \n",
    "                                             standardize = True,\n",
    "                                             high_pass   = 0.01, \n",
    "                                             t_r         = 0.8, \n",
    "                                             low_pass    = 0.12 );\n",
    "\n",
    "all293_masker.fit('/Volumes/Backup Plus/twins_fmriprep/sub-0001/ses-02/func/sub-0001_ses-02_task-partlycloudy_space-MNI152NLin2009cAsym_desc-preproc_bold.nii.gz')"
   ]
  },
  {
   "cell_type": "markdown",
   "metadata": {},
   "source": [
    "#### set up files"
   ]
  },
  {
   "cell_type": "code",
   "execution_count": 2,
   "metadata": {},
   "outputs": [
    {
     "name": "stdout",
     "output_type": "stream",
     "text": [
      "0\n"
     ]
    },
    {
     "data": {
      "text/plain": [
       "[]"
      ]
     },
     "execution_count": 2,
     "metadata": {},
     "output_type": "execute_result"
    }
   ],
   "source": [
    "mylist = [f for f in glob.glob(\"/Volumes/Backup Plus/twins_fmriprep/sub*/ses-02/func/*_ses-02_task-partlycloudy_space-MNI152NLin2009cAsym_desc-preproc_bold.nii.gz\")]\n",
    "print(len(mylist)) #[-84:65]\n",
    "mylist[:3]"
   ]
  },
  {
   "cell_type": "code",
   "execution_count": 65,
   "metadata": {},
   "outputs": [
    {
     "name": "stdout",
     "output_type": "stream",
     "text": [
      "/Users/ralfschmaelzle/Documents/GITHUB/nomcomm/PAPERS_WORKING/partlycloudy_twins/data/03_extract_ts/sub-0001_LTR_Z_THP001_LP012_shen268_pauli16_aan9.npy\n",
      "/Users/ralfschmaelzle/Documents/GITHUB/nomcomm/PAPERS_WORKING/partlycloudy_twins/data/03_extract_ts/sub-0422_LTR_Z_THP001_LP012_shen268_pauli16_aan9.npy\n",
      "/Users/ralfschmaelzle/Documents/GITHUB/nomcomm/PAPERS_WORKING/partlycloudy_twins/data/03_extract_ts/sub-0004_LTR_Z_THP001_LP012_shen268_pauli16_aan9.npy\n",
      "/Users/ralfschmaelzle/Documents/GITHUB/nomcomm/PAPERS_WORKING/partlycloudy_twins/data/03_extract_ts/sub-0139_LTR_Z_THP001_LP012_shen268_pauli16_aan9.npy\n",
      "/Users/ralfschmaelzle/Documents/GITHUB/nomcomm/PAPERS_WORKING/partlycloudy_twins/data/03_extract_ts/sub-0421_LTR_Z_THP001_LP012_shen268_pauli16_aan9.npy\n",
      "/Users/ralfschmaelzle/Documents/GITHUB/nomcomm/PAPERS_WORKING/partlycloudy_twins/data/03_extract_ts/sub-0141_LTR_Z_THP001_LP012_shen268_pauli16_aan9.npy\n",
      "/Users/ralfschmaelzle/Documents/GITHUB/nomcomm/PAPERS_WORKING/partlycloudy_twins/data/03_extract_ts/sub-0005_LTR_Z_THP001_LP012_shen268_pauli16_aan9.npy\n",
      "/Users/ralfschmaelzle/Documents/GITHUB/nomcomm/PAPERS_WORKING/partlycloudy_twins/data/03_extract_ts/sub-0420_LTR_Z_THP001_LP012_shen268_pauli16_aan9.npy\n",
      "/Users/ralfschmaelzle/Documents/GITHUB/nomcomm/PAPERS_WORKING/partlycloudy_twins/data/03_extract_ts/sub-0006_LTR_Z_THP001_LP012_shen268_pauli16_aan9.npy\n",
      "/Users/ralfschmaelzle/Documents/GITHUB/nomcomm/PAPERS_WORKING/partlycloudy_twins/data/03_extract_ts/sub-0144_LTR_Z_THP001_LP012_shen268_pauli16_aan9.npy\n",
      "/Users/ralfschmaelzle/Documents/GITHUB/nomcomm/PAPERS_WORKING/partlycloudy_twins/data/03_extract_ts/sub-0419_LTR_Z_THP001_LP012_shen268_pauli16_aan9.npy\n",
      "/Users/ralfschmaelzle/Documents/GITHUB/nomcomm/PAPERS_WORKING/partlycloudy_twins/data/03_extract_ts/sub-0148_LTR_Z_THP001_LP012_shen268_pauli16_aan9.npy\n",
      "/Users/ralfschmaelzle/Documents/GITHUB/nomcomm/PAPERS_WORKING/partlycloudy_twins/data/03_extract_ts/sub-0007_LTR_Z_THP001_LP012_shen268_pauli16_aan9.npy\n",
      "/Users/ralfschmaelzle/Documents/GITHUB/nomcomm/PAPERS_WORKING/partlycloudy_twins/data/03_extract_ts/sub-0418_LTR_Z_THP001_LP012_shen268_pauli16_aan9.npy\n",
      "/Users/ralfschmaelzle/Documents/GITHUB/nomcomm/PAPERS_WORKING/partlycloudy_twins/data/03_extract_ts/sub-0150_LTR_Z_THP001_LP012_shen268_pauli16_aan9.npy\n",
      "/Users/ralfschmaelzle/Documents/GITHUB/nomcomm/PAPERS_WORKING/partlycloudy_twins/data/03_extract_ts/sub-0010_LTR_Z_THP001_LP012_shen268_pauli16_aan9.npy\n",
      "/Users/ralfschmaelzle/Documents/GITHUB/nomcomm/PAPERS_WORKING/partlycloudy_twins/data/03_extract_ts/sub-0417_LTR_Z_THP001_LP012_shen268_pauli16_aan9.npy\n",
      "/Users/ralfschmaelzle/Documents/GITHUB/nomcomm/PAPERS_WORKING/partlycloudy_twins/data/03_extract_ts/sub-0013_LTR_Z_THP001_LP012_shen268_pauli16_aan9.npy\n",
      "/Users/ralfschmaelzle/Documents/GITHUB/nomcomm/PAPERS_WORKING/partlycloudy_twins/data/03_extract_ts/sub-0151_LTR_Z_THP001_LP012_shen268_pauli16_aan9.npy\n",
      "/Users/ralfschmaelzle/Documents/GITHUB/nomcomm/PAPERS_WORKING/partlycloudy_twins/data/03_extract_ts/sub-0415_LTR_Z_THP001_LP012_shen268_pauli16_aan9.npy\n",
      "/Users/ralfschmaelzle/Documents/GITHUB/nomcomm/PAPERS_WORKING/partlycloudy_twins/data/03_extract_ts/sub-0152_LTR_Z_THP001_LP012_shen268_pauli16_aan9.npy\n",
      "/Users/ralfschmaelzle/Documents/GITHUB/nomcomm/PAPERS_WORKING/partlycloudy_twins/data/03_extract_ts/sub-0413_LTR_Z_THP001_LP012_shen268_pauli16_aan9.npy\n",
      "/Users/ralfschmaelzle/Documents/GITHUB/nomcomm/PAPERS_WORKING/partlycloudy_twins/data/03_extract_ts/sub-0015_LTR_Z_THP001_LP012_shen268_pauli16_aan9.npy\n",
      "/Users/ralfschmaelzle/Documents/GITHUB/nomcomm/PAPERS_WORKING/partlycloudy_twins/data/03_extract_ts/sub-0154_LTR_Z_THP001_LP012_shen268_pauli16_aan9.npy\n",
      "/Users/ralfschmaelzle/Documents/GITHUB/nomcomm/PAPERS_WORKING/partlycloudy_twins/data/03_extract_ts/sub-0412_LTR_Z_THP001_LP012_shen268_pauli16_aan9.npy\n",
      "/Users/ralfschmaelzle/Documents/GITHUB/nomcomm/PAPERS_WORKING/partlycloudy_twins/data/03_extract_ts/sub-0016_LTR_Z_THP001_LP012_shen268_pauli16_aan9.npy\n",
      "/Users/ralfschmaelzle/Documents/GITHUB/nomcomm/PAPERS_WORKING/partlycloudy_twins/data/03_extract_ts/sub-0155_LTR_Z_THP001_LP012_shen268_pauli16_aan9.npy\n",
      "/Users/ralfschmaelzle/Documents/GITHUB/nomcomm/PAPERS_WORKING/partlycloudy_twins/data/03_extract_ts/sub-0411_LTR_Z_THP001_LP012_shen268_pauli16_aan9.npy\n",
      "/Users/ralfschmaelzle/Documents/GITHUB/nomcomm/PAPERS_WORKING/partlycloudy_twins/data/03_extract_ts/sub-0017_LTR_Z_THP001_LP012_shen268_pauli16_aan9.npy\n",
      "/Users/ralfschmaelzle/Documents/GITHUB/nomcomm/PAPERS_WORKING/partlycloudy_twins/data/03_extract_ts/sub-0156_LTR_Z_THP001_LP012_shen268_pauli16_aan9.npy\n",
      "/Users/ralfschmaelzle/Documents/GITHUB/nomcomm/PAPERS_WORKING/partlycloudy_twins/data/03_extract_ts/sub-0410_LTR_Z_THP001_LP012_shen268_pauli16_aan9.npy\n",
      "/Users/ralfschmaelzle/Documents/GITHUB/nomcomm/PAPERS_WORKING/partlycloudy_twins/data/03_extract_ts/sub-0018_LTR_Z_THP001_LP012_shen268_pauli16_aan9.npy\n",
      "/Users/ralfschmaelzle/Documents/GITHUB/nomcomm/PAPERS_WORKING/partlycloudy_twins/data/03_extract_ts/sub-0157_LTR_Z_THP001_LP012_shen268_pauli16_aan9.npy\n",
      "/Users/ralfschmaelzle/Documents/GITHUB/nomcomm/PAPERS_WORKING/partlycloudy_twins/data/03_extract_ts/sub-0409_LTR_Z_THP001_LP012_shen268_pauli16_aan9.npy\n",
      "/Users/ralfschmaelzle/Documents/GITHUB/nomcomm/PAPERS_WORKING/partlycloudy_twins/data/03_extract_ts/sub-0019_LTR_Z_THP001_LP012_shen268_pauli16_aan9.npy\n",
      "/Users/ralfschmaelzle/Documents/GITHUB/nomcomm/PAPERS_WORKING/partlycloudy_twins/data/03_extract_ts/sub-0158_LTR_Z_THP001_LP012_shen268_pauli16_aan9.npy\n",
      "/Users/ralfschmaelzle/Documents/GITHUB/nomcomm/PAPERS_WORKING/partlycloudy_twins/data/03_extract_ts/sub-0408_LTR_Z_THP001_LP012_shen268_pauli16_aan9.npy\n",
      "/Users/ralfschmaelzle/Documents/GITHUB/nomcomm/PAPERS_WORKING/partlycloudy_twins/data/03_extract_ts/sub-0020_LTR_Z_THP001_LP012_shen268_pauli16_aan9.npy\n",
      "/Users/ralfschmaelzle/Documents/GITHUB/nomcomm/PAPERS_WORKING/partlycloudy_twins/data/03_extract_ts/sub-0159_LTR_Z_THP001_LP012_shen268_pauli16_aan9.npy\n",
      "/Users/ralfschmaelzle/Documents/GITHUB/nomcomm/PAPERS_WORKING/partlycloudy_twins/data/03_extract_ts/sub-0404_LTR_Z_THP001_LP012_shen268_pauli16_aan9.npy\n",
      "/Users/ralfschmaelzle/Documents/GITHUB/nomcomm/PAPERS_WORKING/partlycloudy_twins/data/03_extract_ts/sub-0021_LTR_Z_THP001_LP012_shen268_pauli16_aan9.npy\n",
      "/Users/ralfschmaelzle/Documents/GITHUB/nomcomm/PAPERS_WORKING/partlycloudy_twins/data/03_extract_ts/sub-0160_LTR_Z_THP001_LP012_shen268_pauli16_aan9.npy\n",
      "/Users/ralfschmaelzle/Documents/GITHUB/nomcomm/PAPERS_WORKING/partlycloudy_twins/data/03_extract_ts/sub-0403_LTR_Z_THP001_LP012_shen268_pauli16_aan9.npy\n",
      "/Users/ralfschmaelzle/Documents/GITHUB/nomcomm/PAPERS_WORKING/partlycloudy_twins/data/03_extract_ts/sub-0022_LTR_Z_THP001_LP012_shen268_pauli16_aan9.npy\n",
      "/Users/ralfschmaelzle/Documents/GITHUB/nomcomm/PAPERS_WORKING/partlycloudy_twins/data/03_extract_ts/sub-0161_LTR_Z_THP001_LP012_shen268_pauli16_aan9.npy\n",
      "/Users/ralfschmaelzle/Documents/GITHUB/nomcomm/PAPERS_WORKING/partlycloudy_twins/data/03_extract_ts/sub-0402_LTR_Z_THP001_LP012_shen268_pauli16_aan9.npy\n",
      "/Users/ralfschmaelzle/Documents/GITHUB/nomcomm/PAPERS_WORKING/partlycloudy_twins/data/03_extract_ts/sub-0024_LTR_Z_THP001_LP012_shen268_pauli16_aan9.npy\n",
      "/Users/ralfschmaelzle/Documents/GITHUB/nomcomm/PAPERS_WORKING/partlycloudy_twins/data/03_extract_ts/sub-0162_LTR_Z_THP001_LP012_shen268_pauli16_aan9.npy\n",
      "/Users/ralfschmaelzle/Documents/GITHUB/nomcomm/PAPERS_WORKING/partlycloudy_twins/data/03_extract_ts/sub-0401_LTR_Z_THP001_LP012_shen268_pauli16_aan9.npy\n",
      "/Users/ralfschmaelzle/Documents/GITHUB/nomcomm/PAPERS_WORKING/partlycloudy_twins/data/03_extract_ts/sub-0025_LTR_Z_THP001_LP012_shen268_pauli16_aan9.npy\n",
      "/Users/ralfschmaelzle/Documents/GITHUB/nomcomm/PAPERS_WORKING/partlycloudy_twins/data/03_extract_ts/sub-0163_LTR_Z_THP001_LP012_shen268_pauli16_aan9.npy\n",
      "/Users/ralfschmaelzle/Documents/GITHUB/nomcomm/PAPERS_WORKING/partlycloudy_twins/data/03_extract_ts/sub-0400_LTR_Z_THP001_LP012_shen268_pauli16_aan9.npy\n",
      "/Users/ralfschmaelzle/Documents/GITHUB/nomcomm/PAPERS_WORKING/partlycloudy_twins/data/03_extract_ts/sub-0028_LTR_Z_THP001_LP012_shen268_pauli16_aan9.npy\n",
      "/Users/ralfschmaelzle/Documents/GITHUB/nomcomm/PAPERS_WORKING/partlycloudy_twins/data/03_extract_ts/sub-0164_LTR_Z_THP001_LP012_shen268_pauli16_aan9.npy\n"
     ]
    },
    {
     "name": "stdout",
     "output_type": "stream",
     "text": [
      "/Users/ralfschmaelzle/Documents/GITHUB/nomcomm/PAPERS_WORKING/partlycloudy_twins/data/03_extract_ts/sub-0397_LTR_Z_THP001_LP012_shen268_pauli16_aan9.npy\n",
      "/Users/ralfschmaelzle/Documents/GITHUB/nomcomm/PAPERS_WORKING/partlycloudy_twins/data/03_extract_ts/sub-0029_LTR_Z_THP001_LP012_shen268_pauli16_aan9.npy\n",
      "/Users/ralfschmaelzle/Documents/GITHUB/nomcomm/PAPERS_WORKING/partlycloudy_twins/data/03_extract_ts/sub-0165_LTR_Z_THP001_LP012_shen268_pauli16_aan9.npy\n",
      "/Users/ralfschmaelzle/Documents/GITHUB/nomcomm/PAPERS_WORKING/partlycloudy_twins/data/03_extract_ts/sub-0396_LTR_Z_THP001_LP012_shen268_pauli16_aan9.npy\n",
      "/Users/ralfschmaelzle/Documents/GITHUB/nomcomm/PAPERS_WORKING/partlycloudy_twins/data/03_extract_ts/sub-0030_LTR_Z_THP001_LP012_shen268_pauli16_aan9.npy\n",
      "/Users/ralfschmaelzle/Documents/GITHUB/nomcomm/PAPERS_WORKING/partlycloudy_twins/data/03_extract_ts/sub-0166_LTR_Z_THP001_LP012_shen268_pauli16_aan9.npy\n",
      "/Users/ralfschmaelzle/Documents/GITHUB/nomcomm/PAPERS_WORKING/partlycloudy_twins/data/03_extract_ts/sub-0395_LTR_Z_THP001_LP012_shen268_pauli16_aan9.npy\n",
      "/Users/ralfschmaelzle/Documents/GITHUB/nomcomm/PAPERS_WORKING/partlycloudy_twins/data/03_extract_ts/sub-0031_LTR_Z_THP001_LP012_shen268_pauli16_aan9.npy\n",
      "/Users/ralfschmaelzle/Documents/GITHUB/nomcomm/PAPERS_WORKING/partlycloudy_twins/data/03_extract_ts/sub-0167_LTR_Z_THP001_LP012_shen268_pauli16_aan9.npy\n",
      "/Users/ralfschmaelzle/Documents/GITHUB/nomcomm/PAPERS_WORKING/partlycloudy_twins/data/03_extract_ts/sub-0394_LTR_Z_THP001_LP012_shen268_pauli16_aan9.npy\n",
      "/Users/ralfschmaelzle/Documents/GITHUB/nomcomm/PAPERS_WORKING/partlycloudy_twins/data/03_extract_ts/sub-0032_LTR_Z_THP001_LP012_shen268_pauli16_aan9.npy\n",
      "/Users/ralfschmaelzle/Documents/GITHUB/nomcomm/PAPERS_WORKING/partlycloudy_twins/data/03_extract_ts/sub-0168_LTR_Z_THP001_LP012_shen268_pauli16_aan9.npy\n",
      "/Users/ralfschmaelzle/Documents/GITHUB/nomcomm/PAPERS_WORKING/partlycloudy_twins/data/03_extract_ts/sub-0392_LTR_Z_THP001_LP012_shen268_pauli16_aan9.npy\n",
      "/Users/ralfschmaelzle/Documents/GITHUB/nomcomm/PAPERS_WORKING/partlycloudy_twins/data/03_extract_ts/sub-0034_LTR_Z_THP001_LP012_shen268_pauli16_aan9.npy\n",
      "/Users/ralfschmaelzle/Documents/GITHUB/nomcomm/PAPERS_WORKING/partlycloudy_twins/data/03_extract_ts/sub-0170_LTR_Z_THP001_LP012_shen268_pauli16_aan9.npy\n",
      "/Users/ralfschmaelzle/Documents/GITHUB/nomcomm/PAPERS_WORKING/partlycloudy_twins/data/03_extract_ts/sub-0390_LTR_Z_THP001_LP012_shen268_pauli16_aan9.npy\n",
      "/Users/ralfschmaelzle/Documents/GITHUB/nomcomm/PAPERS_WORKING/partlycloudy_twins/data/03_extract_ts/sub-0035_LTR_Z_THP001_LP012_shen268_pauli16_aan9.npy\n",
      "/Users/ralfschmaelzle/Documents/GITHUB/nomcomm/PAPERS_WORKING/partlycloudy_twins/data/03_extract_ts/sub-0171_LTR_Z_THP001_LP012_shen268_pauli16_aan9.npy\n",
      "/Users/ralfschmaelzle/Documents/GITHUB/nomcomm/PAPERS_WORKING/partlycloudy_twins/data/03_extract_ts/sub-0389_LTR_Z_THP001_LP012_shen268_pauli16_aan9.npy\n",
      "/Users/ralfschmaelzle/Documents/GITHUB/nomcomm/PAPERS_WORKING/partlycloudy_twins/data/03_extract_ts/sub-0036_LTR_Z_THP001_LP012_shen268_pauli16_aan9.npy\n",
      "/Users/ralfschmaelzle/Documents/GITHUB/nomcomm/PAPERS_WORKING/partlycloudy_twins/data/03_extract_ts/sub-0173_LTR_Z_THP001_LP012_shen268_pauli16_aan9.npy\n",
      "/Users/ralfschmaelzle/Documents/GITHUB/nomcomm/PAPERS_WORKING/partlycloudy_twins/data/03_extract_ts/sub-0388_LTR_Z_THP001_LP012_shen268_pauli16_aan9.npy\n",
      "/Users/ralfschmaelzle/Documents/GITHUB/nomcomm/PAPERS_WORKING/partlycloudy_twins/data/03_extract_ts/sub-0037_LTR_Z_THP001_LP012_shen268_pauli16_aan9.npy\n",
      "/Users/ralfschmaelzle/Documents/GITHUB/nomcomm/PAPERS_WORKING/partlycloudy_twins/data/03_extract_ts/sub-0174_LTR_Z_THP001_LP012_shen268_pauli16_aan9.npy\n",
      "/Users/ralfschmaelzle/Documents/GITHUB/nomcomm/PAPERS_WORKING/partlycloudy_twins/data/03_extract_ts/sub-0387_LTR_Z_THP001_LP012_shen268_pauli16_aan9.npy\n"
     ]
    },
    {
     "ename": "KeyboardInterrupt",
     "evalue": "",
     "output_type": "error",
     "traceback": [
      "\u001b[0;31m---------------------------------------------------------------------------\u001b[0m",
      "\u001b[0;31mKeyboardInterrupt\u001b[0m                         Traceback (most recent call last)",
      "\u001b[0;32m<ipython-input-65-98987c74a625>\u001b[0m in \u001b[0;36m<module>\u001b[0;34m\u001b[0m\n\u001b[1;32m     13\u001b[0m \u001b[0;34m\u001b[0m\u001b[0m\n\u001b[1;32m     14\u001b[0m     \u001b[0;32mif\u001b[0m \u001b[0;32mnot\u001b[0m \u001b[0mos\u001b[0m\u001b[0;34m.\u001b[0m\u001b[0mpath\u001b[0m\u001b[0;34m.\u001b[0m\u001b[0mexists\u001b[0m\u001b[0;34m(\u001b[0m\u001b[0mcurr_out_file_path\u001b[0m\u001b[0;34m)\u001b[0m\u001b[0;34m:\u001b[0m\u001b[0;34m\u001b[0m\u001b[0;34m\u001b[0m\u001b[0m\n\u001b[0;32m---> 15\u001b[0;31m             \u001b[0mtime_series\u001b[0m \u001b[0;34m=\u001b[0m \u001b[0mall293_masker\u001b[0m\u001b[0;34m.\u001b[0m\u001b[0mfit_transform\u001b[0m\u001b[0;34m(\u001b[0m\u001b[0mcurr_file\u001b[0m\u001b[0;34m,\u001b[0m\u001b[0mconfounds\u001b[0m\u001b[0;34m=\u001b[0m\u001b[0mconfounds_simple\u001b[0m\u001b[0;34m)\u001b[0m\u001b[0;34m\u001b[0m\u001b[0;34m\u001b[0m\u001b[0m\n\u001b[0m\u001b[1;32m     16\u001b[0m \u001b[0;34m\u001b[0m\u001b[0m\n\u001b[1;32m     17\u001b[0m             \u001b[0mnp\u001b[0m\u001b[0;34m.\u001b[0m\u001b[0msave\u001b[0m\u001b[0;34m(\u001b[0m\u001b[0mcurr_out_file_path\u001b[0m\u001b[0;34m,\u001b[0m \u001b[0mtime_series\u001b[0m\u001b[0;34m)\u001b[0m\u001b[0;34m\u001b[0m\u001b[0;34m\u001b[0m\u001b[0m\n",
      "\u001b[0;32m/opt/anaconda3/envs/neuroimaging/lib/python3.9/site-packages/nilearn/maskers/nifti_labels_masker.py\u001b[0m in \u001b[0;36mfit_transform\u001b[0;34m(self, imgs, confounds, sample_mask)\u001b[0m\n\u001b[1;32m    394\u001b[0m \u001b[0;34m\u001b[0m\u001b[0m\n\u001b[1;32m    395\u001b[0m         \"\"\"\n\u001b[0;32m--> 396\u001b[0;31m         return self.fit().transform(imgs, confounds=confounds,\n\u001b[0m\u001b[1;32m    397\u001b[0m                                     sample_mask=sample_mask)\n\u001b[1;32m    398\u001b[0m \u001b[0;34m\u001b[0m\u001b[0m\n",
      "\u001b[0;32m/opt/anaconda3/envs/neuroimaging/lib/python3.9/site-packages/nilearn/maskers/base_masker.py\u001b[0m in \u001b[0;36mtransform\u001b[0;34m(self, imgs, confounds, sample_mask)\u001b[0m\n\u001b[1;32m    211\u001b[0m                 \u001b[0mall_confounds\u001b[0m\u001b[0;34m.\u001b[0m\u001b[0mappend\u001b[0m\u001b[0;34m(\u001b[0m\u001b[0mconfounds\u001b[0m\u001b[0;34m)\u001b[0m\u001b[0;34m\u001b[0m\u001b[0;34m\u001b[0m\u001b[0m\n\u001b[1;32m    212\u001b[0m \u001b[0;34m\u001b[0m\u001b[0m\n\u001b[0;32m--> 213\u001b[0;31m         return self.transform_single_imgs(imgs, confounds=all_confounds,\n\u001b[0m\u001b[1;32m    214\u001b[0m                                           sample_mask=sample_mask)\n\u001b[1;32m    215\u001b[0m \u001b[0;34m\u001b[0m\u001b[0m\n",
      "\u001b[0;32m/opt/anaconda3/envs/neuroimaging/lib/python3.9/site-packages/nilearn/maskers/nifti_labels_masker.py\u001b[0m in \u001b[0;36mtransform_single_imgs\u001b[0;34m(self, imgs, confounds, sample_mask)\u001b[0m\n\u001b[1;32m    490\u001b[0m         \u001b[0mparams\u001b[0m\u001b[0;34m[\u001b[0m\u001b[0;34m'target_affine'\u001b[0m\u001b[0;34m]\u001b[0m \u001b[0;34m=\u001b[0m \u001b[0mtarget_affine\u001b[0m\u001b[0;34m\u001b[0m\u001b[0;34m\u001b[0m\u001b[0m\n\u001b[1;32m    491\u001b[0m \u001b[0;34m\u001b[0m\u001b[0m\n\u001b[0;32m--> 492\u001b[0;31m         region_signals, labels_ = self._cache(\n\u001b[0m\u001b[1;32m    493\u001b[0m             \u001b[0m_filter_and_extract\u001b[0m\u001b[0;34m,\u001b[0m\u001b[0;34m\u001b[0m\u001b[0;34m\u001b[0m\u001b[0m\n\u001b[1;32m    494\u001b[0m             \u001b[0mignore\u001b[0m\u001b[0;34m=\u001b[0m\u001b[0;34m[\u001b[0m\u001b[0;34m'verbose'\u001b[0m\u001b[0;34m,\u001b[0m \u001b[0;34m'memory'\u001b[0m\u001b[0;34m,\u001b[0m \u001b[0;34m'memory_level'\u001b[0m\u001b[0;34m]\u001b[0m\u001b[0;34m\u001b[0m\u001b[0;34m\u001b[0m\u001b[0m\n",
      "\u001b[0;32m/opt/anaconda3/envs/neuroimaging/lib/python3.9/site-packages/joblib/memory.py\u001b[0m in \u001b[0;36m__call__\u001b[0;34m(self, *args, **kwargs)\u001b[0m\n\u001b[1;32m    350\u001b[0m \u001b[0;34m\u001b[0m\u001b[0m\n\u001b[1;32m    351\u001b[0m     \u001b[0;32mdef\u001b[0m \u001b[0m__call__\u001b[0m\u001b[0;34m(\u001b[0m\u001b[0mself\u001b[0m\u001b[0;34m,\u001b[0m \u001b[0;34m*\u001b[0m\u001b[0margs\u001b[0m\u001b[0;34m,\u001b[0m \u001b[0;34m**\u001b[0m\u001b[0mkwargs\u001b[0m\u001b[0;34m)\u001b[0m\u001b[0;34m:\u001b[0m\u001b[0;34m\u001b[0m\u001b[0;34m\u001b[0m\u001b[0m\n\u001b[0;32m--> 352\u001b[0;31m         \u001b[0;32mreturn\u001b[0m \u001b[0mself\u001b[0m\u001b[0;34m.\u001b[0m\u001b[0mfunc\u001b[0m\u001b[0;34m(\u001b[0m\u001b[0;34m*\u001b[0m\u001b[0margs\u001b[0m\u001b[0;34m,\u001b[0m \u001b[0;34m**\u001b[0m\u001b[0mkwargs\u001b[0m\u001b[0;34m)\u001b[0m\u001b[0;34m\u001b[0m\u001b[0;34m\u001b[0m\u001b[0m\n\u001b[0m\u001b[1;32m    353\u001b[0m \u001b[0;34m\u001b[0m\u001b[0m\n\u001b[1;32m    354\u001b[0m     \u001b[0;32mdef\u001b[0m \u001b[0mcall_and_shelve\u001b[0m\u001b[0;34m(\u001b[0m\u001b[0mself\u001b[0m\u001b[0;34m,\u001b[0m \u001b[0;34m*\u001b[0m\u001b[0margs\u001b[0m\u001b[0;34m,\u001b[0m \u001b[0;34m**\u001b[0m\u001b[0mkwargs\u001b[0m\u001b[0;34m)\u001b[0m\u001b[0;34m:\u001b[0m\u001b[0;34m\u001b[0m\u001b[0;34m\u001b[0m\u001b[0m\n",
      "\u001b[0;32m/opt/anaconda3/envs/neuroimaging/lib/python3.9/site-packages/nilearn/maskers/base_masker.py\u001b[0m in \u001b[0;36m_filter_and_extract\u001b[0;34m(imgs, extraction_function, parameters, memory_level, memory, verbose, confounds, sample_mask, copy, dtype)\u001b[0m\n\u001b[1;32m     92\u001b[0m     \u001b[0;32mif\u001b[0m \u001b[0mverbose\u001b[0m \u001b[0;34m>\u001b[0m \u001b[0;36m0\u001b[0m\u001b[0;34m:\u001b[0m\u001b[0;34m\u001b[0m\u001b[0;34m\u001b[0m\u001b[0m\n\u001b[1;32m     93\u001b[0m         \u001b[0mprint\u001b[0m\u001b[0;34m(\u001b[0m\u001b[0;34m\"[%s] Extracting region signals\"\u001b[0m \u001b[0;34m%\u001b[0m \u001b[0mclass_name\u001b[0m\u001b[0;34m)\u001b[0m\u001b[0;34m\u001b[0m\u001b[0;34m\u001b[0m\u001b[0m\n\u001b[0;32m---> 94\u001b[0;31m     region_signals, aux = cache(extraction_function, memory,\n\u001b[0m\u001b[1;32m     95\u001b[0m                                 \u001b[0mfunc_memory_level\u001b[0m\u001b[0;34m=\u001b[0m\u001b[0;36m2\u001b[0m\u001b[0;34m,\u001b[0m\u001b[0;34m\u001b[0m\u001b[0;34m\u001b[0m\u001b[0m\n\u001b[1;32m     96\u001b[0m                                 memory_level=memory_level)(imgs)\n",
      "\u001b[0;32m/opt/anaconda3/envs/neuroimaging/lib/python3.9/site-packages/joblib/memory.py\u001b[0m in \u001b[0;36m__call__\u001b[0;34m(self, *args, **kwargs)\u001b[0m\n\u001b[1;32m    350\u001b[0m \u001b[0;34m\u001b[0m\u001b[0m\n\u001b[1;32m    351\u001b[0m     \u001b[0;32mdef\u001b[0m \u001b[0m__call__\u001b[0m\u001b[0;34m(\u001b[0m\u001b[0mself\u001b[0m\u001b[0;34m,\u001b[0m \u001b[0;34m*\u001b[0m\u001b[0margs\u001b[0m\u001b[0;34m,\u001b[0m \u001b[0;34m**\u001b[0m\u001b[0mkwargs\u001b[0m\u001b[0;34m)\u001b[0m\u001b[0;34m:\u001b[0m\u001b[0;34m\u001b[0m\u001b[0;34m\u001b[0m\u001b[0m\n\u001b[0;32m--> 352\u001b[0;31m         \u001b[0;32mreturn\u001b[0m \u001b[0mself\u001b[0m\u001b[0;34m.\u001b[0m\u001b[0mfunc\u001b[0m\u001b[0;34m(\u001b[0m\u001b[0;34m*\u001b[0m\u001b[0margs\u001b[0m\u001b[0;34m,\u001b[0m \u001b[0;34m**\u001b[0m\u001b[0mkwargs\u001b[0m\u001b[0;34m)\u001b[0m\u001b[0;34m\u001b[0m\u001b[0;34m\u001b[0m\u001b[0m\n\u001b[0m\u001b[1;32m    353\u001b[0m \u001b[0;34m\u001b[0m\u001b[0m\n\u001b[1;32m    354\u001b[0m     \u001b[0;32mdef\u001b[0m \u001b[0mcall_and_shelve\u001b[0m\u001b[0;34m(\u001b[0m\u001b[0mself\u001b[0m\u001b[0;34m,\u001b[0m \u001b[0;34m*\u001b[0m\u001b[0margs\u001b[0m\u001b[0;34m,\u001b[0m \u001b[0;34m**\u001b[0m\u001b[0mkwargs\u001b[0m\u001b[0;34m)\u001b[0m\u001b[0;34m:\u001b[0m\u001b[0;34m\u001b[0m\u001b[0;34m\u001b[0m\u001b[0m\n",
      "\u001b[0;32m/opt/anaconda3/envs/neuroimaging/lib/python3.9/site-packages/nilearn/maskers/nifti_labels_masker.py\u001b[0m in \u001b[0;36m__call__\u001b[0;34m(self, imgs)\u001b[0m\n\u001b[1;32m     35\u001b[0m         \u001b[0;32mfrom\u001b[0m \u001b[0;34m.\u001b[0m\u001b[0;34m.\u001b[0m\u001b[0mregions\u001b[0m \u001b[0;32mimport\u001b[0m \u001b[0msignal_extraction\u001b[0m\u001b[0;34m\u001b[0m\u001b[0;34m\u001b[0m\u001b[0m\n\u001b[1;32m     36\u001b[0m \u001b[0;34m\u001b[0m\u001b[0m\n\u001b[0;32m---> 37\u001b[0;31m         return signal_extraction.img_to_signals_labels(\n\u001b[0m\u001b[1;32m     38\u001b[0m             \u001b[0mimgs\u001b[0m\u001b[0;34m,\u001b[0m \u001b[0mself\u001b[0m\u001b[0;34m.\u001b[0m\u001b[0m_resampled_labels_img_\u001b[0m\u001b[0;34m,\u001b[0m\u001b[0;34m\u001b[0m\u001b[0;34m\u001b[0m\u001b[0m\n\u001b[1;32m     39\u001b[0m             \u001b[0mbackground_label\u001b[0m\u001b[0;34m=\u001b[0m\u001b[0mself\u001b[0m\u001b[0;34m.\u001b[0m\u001b[0mbackground_label\u001b[0m\u001b[0;34m,\u001b[0m \u001b[0mstrategy\u001b[0m\u001b[0;34m=\u001b[0m\u001b[0mself\u001b[0m\u001b[0;34m.\u001b[0m\u001b[0mstrategy\u001b[0m\u001b[0;34m,\u001b[0m\u001b[0;34m\u001b[0m\u001b[0;34m\u001b[0m\u001b[0m\n",
      "\u001b[0;32m/opt/anaconda3/envs/neuroimaging/lib/python3.9/site-packages/nilearn/regions/signal_extraction.py\u001b[0m in \u001b[0;36mimg_to_signals_labels\u001b[0;34m(imgs, labels_img, mask_img, background_label, order, strategy)\u001b[0m\n\u001b[1;32m    123\u001b[0m     \u001b[0mreduction_function\u001b[0m \u001b[0;34m=\u001b[0m \u001b[0mgetattr\u001b[0m\u001b[0;34m(\u001b[0m\u001b[0mndimage\u001b[0m\u001b[0;34m.\u001b[0m\u001b[0mmeasurements\u001b[0m\u001b[0;34m,\u001b[0m \u001b[0mstrategy\u001b[0m\u001b[0;34m)\u001b[0m\u001b[0;34m\u001b[0m\u001b[0;34m\u001b[0m\u001b[0m\n\u001b[1;32m    124\u001b[0m     \u001b[0;32mfor\u001b[0m \u001b[0mn\u001b[0m\u001b[0;34m,\u001b[0m \u001b[0mimg\u001b[0m \u001b[0;32min\u001b[0m \u001b[0menumerate\u001b[0m\u001b[0;34m(\u001b[0m\u001b[0mnp\u001b[0m\u001b[0;34m.\u001b[0m\u001b[0mrollaxis\u001b[0m\u001b[0;34m(\u001b[0m\u001b[0mdata\u001b[0m\u001b[0;34m,\u001b[0m \u001b[0;34m-\u001b[0m\u001b[0;36m1\u001b[0m\u001b[0;34m)\u001b[0m\u001b[0;34m)\u001b[0m\u001b[0;34m:\u001b[0m\u001b[0;34m\u001b[0m\u001b[0;34m\u001b[0m\u001b[0m\n\u001b[0;32m--> 125\u001b[0;31m         signals[n] = np.asarray(reduction_function(img,\n\u001b[0m\u001b[1;32m    126\u001b[0m                                                    \u001b[0mlabels\u001b[0m\u001b[0;34m=\u001b[0m\u001b[0mlabels_data\u001b[0m\u001b[0;34m,\u001b[0m\u001b[0;34m\u001b[0m\u001b[0;34m\u001b[0m\u001b[0m\n\u001b[1;32m    127\u001b[0m                                                    index=labels))\n",
      "\u001b[0;32m/opt/anaconda3/envs/neuroimaging/lib/python3.9/site-packages/scipy/ndimage/measurements.py\u001b[0m in \u001b[0;36mmean\u001b[0;34m(input, labels, index)\u001b[0m\n\u001b[1;32m    681\u001b[0m     \"\"\"\n\u001b[1;32m    682\u001b[0m \u001b[0;34m\u001b[0m\u001b[0m\n\u001b[0;32m--> 683\u001b[0;31m     \u001b[0mcount\u001b[0m\u001b[0;34m,\u001b[0m \u001b[0msum\u001b[0m \u001b[0;34m=\u001b[0m \u001b[0m_stats\u001b[0m\u001b[0;34m(\u001b[0m\u001b[0minput\u001b[0m\u001b[0;34m,\u001b[0m \u001b[0mlabels\u001b[0m\u001b[0;34m,\u001b[0m \u001b[0mindex\u001b[0m\u001b[0;34m)\u001b[0m\u001b[0;34m\u001b[0m\u001b[0;34m\u001b[0m\u001b[0m\n\u001b[0m\u001b[1;32m    684\u001b[0m     \u001b[0;32mreturn\u001b[0m \u001b[0msum\u001b[0m \u001b[0;34m/\u001b[0m \u001b[0mnumpy\u001b[0m\u001b[0;34m.\u001b[0m\u001b[0masanyarray\u001b[0m\u001b[0;34m(\u001b[0m\u001b[0mcount\u001b[0m\u001b[0;34m)\u001b[0m\u001b[0;34m.\u001b[0m\u001b[0mastype\u001b[0m\u001b[0;34m(\u001b[0m\u001b[0mnumpy\u001b[0m\u001b[0;34m.\u001b[0m\u001b[0mfloat64\u001b[0m\u001b[0;34m)\u001b[0m\u001b[0;34m\u001b[0m\u001b[0;34m\u001b[0m\u001b[0m\n\u001b[1;32m    685\u001b[0m \u001b[0;34m\u001b[0m\u001b[0m\n",
      "\u001b[0;32m/opt/anaconda3/envs/neuroimaging/lib/python3.9/site-packages/scipy/ndimage/measurements.py\u001b[0m in \u001b[0;36m_stats\u001b[0;34m(input, labels, index, centered)\u001b[0m\n\u001b[1;32m    537\u001b[0m         \u001b[0;31m# be 1-D, but it should be interpreted as the flattened N-D array of\u001b[0m\u001b[0;34m\u001b[0m\u001b[0;34m\u001b[0m\u001b[0;34m\u001b[0m\u001b[0m\n\u001b[1;32m    538\u001b[0m         \u001b[0;31m# label indices.\u001b[0m\u001b[0;34m\u001b[0m\u001b[0;34m\u001b[0m\u001b[0;34m\u001b[0m\u001b[0m\n\u001b[0;32m--> 539\u001b[0;31m         \u001b[0munique_labels\u001b[0m\u001b[0;34m,\u001b[0m \u001b[0mnew_labels\u001b[0m \u001b[0;34m=\u001b[0m \u001b[0mnumpy\u001b[0m\u001b[0;34m.\u001b[0m\u001b[0munique\u001b[0m\u001b[0;34m(\u001b[0m\u001b[0mlabels\u001b[0m\u001b[0;34m,\u001b[0m \u001b[0mreturn_inverse\u001b[0m\u001b[0;34m=\u001b[0m\u001b[0;32mTrue\u001b[0m\u001b[0;34m)\u001b[0m\u001b[0;34m\u001b[0m\u001b[0;34m\u001b[0m\u001b[0m\n\u001b[0m\u001b[1;32m    540\u001b[0m         \u001b[0mcounts\u001b[0m \u001b[0;34m=\u001b[0m \u001b[0mnumpy\u001b[0m\u001b[0;34m.\u001b[0m\u001b[0mbincount\u001b[0m\u001b[0;34m(\u001b[0m\u001b[0mnew_labels\u001b[0m\u001b[0;34m)\u001b[0m\u001b[0;34m\u001b[0m\u001b[0;34m\u001b[0m\u001b[0m\n\u001b[1;32m    541\u001b[0m         \u001b[0msums\u001b[0m \u001b[0;34m=\u001b[0m \u001b[0mnumpy\u001b[0m\u001b[0;34m.\u001b[0m\u001b[0mbincount\u001b[0m\u001b[0;34m(\u001b[0m\u001b[0mnew_labels\u001b[0m\u001b[0;34m,\u001b[0m \u001b[0mweights\u001b[0m\u001b[0;34m=\u001b[0m\u001b[0minput\u001b[0m\u001b[0;34m.\u001b[0m\u001b[0mravel\u001b[0m\u001b[0;34m(\u001b[0m\u001b[0;34m)\u001b[0m\u001b[0;34m)\u001b[0m\u001b[0;34m\u001b[0m\u001b[0;34m\u001b[0m\u001b[0m\n",
      "\u001b[0;32m<__array_function__ internals>\u001b[0m in \u001b[0;36munique\u001b[0;34m(*args, **kwargs)\u001b[0m\n",
      "\u001b[0;32m/opt/anaconda3/envs/neuroimaging/lib/python3.9/site-packages/numpy/lib/arraysetops.py\u001b[0m in \u001b[0;36munique\u001b[0;34m(ar, return_index, return_inverse, return_counts, axis)\u001b[0m\n\u001b[1;32m    259\u001b[0m     \u001b[0mar\u001b[0m \u001b[0;34m=\u001b[0m \u001b[0mnp\u001b[0m\u001b[0;34m.\u001b[0m\u001b[0masanyarray\u001b[0m\u001b[0;34m(\u001b[0m\u001b[0mar\u001b[0m\u001b[0;34m)\u001b[0m\u001b[0;34m\u001b[0m\u001b[0;34m\u001b[0m\u001b[0m\n\u001b[1;32m    260\u001b[0m     \u001b[0;32mif\u001b[0m \u001b[0maxis\u001b[0m \u001b[0;32mis\u001b[0m \u001b[0;32mNone\u001b[0m\u001b[0;34m:\u001b[0m\u001b[0;34m\u001b[0m\u001b[0;34m\u001b[0m\u001b[0m\n\u001b[0;32m--> 261\u001b[0;31m         \u001b[0mret\u001b[0m \u001b[0;34m=\u001b[0m \u001b[0m_unique1d\u001b[0m\u001b[0;34m(\u001b[0m\u001b[0mar\u001b[0m\u001b[0;34m,\u001b[0m \u001b[0mreturn_index\u001b[0m\u001b[0;34m,\u001b[0m \u001b[0mreturn_inverse\u001b[0m\u001b[0;34m,\u001b[0m \u001b[0mreturn_counts\u001b[0m\u001b[0;34m)\u001b[0m\u001b[0;34m\u001b[0m\u001b[0;34m\u001b[0m\u001b[0m\n\u001b[0m\u001b[1;32m    262\u001b[0m         \u001b[0;32mreturn\u001b[0m \u001b[0m_unpack_tuple\u001b[0m\u001b[0;34m(\u001b[0m\u001b[0mret\u001b[0m\u001b[0;34m)\u001b[0m\u001b[0;34m\u001b[0m\u001b[0;34m\u001b[0m\u001b[0m\n\u001b[1;32m    263\u001b[0m \u001b[0;34m\u001b[0m\u001b[0m\n",
      "\u001b[0;32m/opt/anaconda3/envs/neuroimaging/lib/python3.9/site-packages/numpy/lib/arraysetops.py\u001b[0m in \u001b[0;36m_unique1d\u001b[0;34m(ar, return_index, return_inverse, return_counts)\u001b[0m\n\u001b[1;32m    317\u001b[0m \u001b[0;34m\u001b[0m\u001b[0m\n\u001b[1;32m    318\u001b[0m     \u001b[0;32mif\u001b[0m \u001b[0moptional_indices\u001b[0m\u001b[0;34m:\u001b[0m\u001b[0;34m\u001b[0m\u001b[0;34m\u001b[0m\u001b[0m\n\u001b[0;32m--> 319\u001b[0;31m         \u001b[0mperm\u001b[0m \u001b[0;34m=\u001b[0m \u001b[0mar\u001b[0m\u001b[0;34m.\u001b[0m\u001b[0margsort\u001b[0m\u001b[0;34m(\u001b[0m\u001b[0mkind\u001b[0m\u001b[0;34m=\u001b[0m\u001b[0;34m'mergesort'\u001b[0m \u001b[0;32mif\u001b[0m \u001b[0mreturn_index\u001b[0m \u001b[0;32melse\u001b[0m \u001b[0;34m'quicksort'\u001b[0m\u001b[0;34m)\u001b[0m\u001b[0;34m\u001b[0m\u001b[0;34m\u001b[0m\u001b[0m\n\u001b[0m\u001b[1;32m    320\u001b[0m         \u001b[0maux\u001b[0m \u001b[0;34m=\u001b[0m \u001b[0mar\u001b[0m\u001b[0;34m[\u001b[0m\u001b[0mperm\u001b[0m\u001b[0;34m]\u001b[0m\u001b[0;34m\u001b[0m\u001b[0;34m\u001b[0m\u001b[0m\n\u001b[1;32m    321\u001b[0m     \u001b[0;32melse\u001b[0m\u001b[0;34m:\u001b[0m\u001b[0;34m\u001b[0m\u001b[0;34m\u001b[0m\u001b[0m\n",
      "\u001b[0;31mKeyboardInterrupt\u001b[0m: "
     ]
    }
   ],
   "source": [
    "for curr_file in mylist:\n",
    "\n",
    "    confounds_simple, sample_mask = load_confounds(\n",
    "                                     curr_file,    \n",
    "                                     strategy=[\"motion\", \"wm_csf\"],\n",
    "                                     motion=\"basic\", \n",
    "                                     wm_csf=\"basic\")\n",
    "\n",
    "    curr_out_file = curr_file[-84:65]\n",
    "    curr_out_file_path = path_dir + curr_out_file + '_LTR_Z_THP001_LP012_shen268_pauli16_aan9.npy'\n",
    "    print(curr_out_file_path)\n",
    "\n",
    "    if not os.path.exists(curr_out_file_path):\n",
    "            time_series = all293_masker.fit_transform(curr_file,confounds=confounds_simple)\n",
    "        \n",
    "            np.save(curr_out_file_path, time_series) "
   ]
  },
  {
   "cell_type": "markdown",
   "metadata": {},
   "source": [
    "## set up files"
   ]
  },
  {
   "cell_type": "code",
   "execution_count": 6,
   "metadata": {
    "scrolled": false
   },
   "outputs": [
    {
     "name": "stdout",
     "output_type": "stream",
     "text": [
      " \n"
     ]
    }
   ],
   "source": [
    "#\n",
    "'''task_list = [   '-notthefallintact_space-MNI152NLin2009cAsym',             ]           \n",
    "\n",
    "ns = [] \n",
    "res = []\n",
    "storyisc = []\n",
    "for curr_task in task_list[:]:\n",
    "    #print(curr_task)\n",
    "    search_path = path_dir + \"/*\" + str(curr_task) + \"_LTR_Z_THP001_LP012_shen268.npy\"\n",
    "    #print(search_path)\n",
    "\n",
    "    ts_files = glob.glob(search_path)\n",
    "    #print(ts_files)\n",
    "    \n",
    "    ts_data = []\n",
    "    for i in range(len(ts_files)):\n",
    "        ts_data.append(np.load(ts_files[i])[3:(3+602+17),:])\n",
    "        print(np.load(ts_files[i]).shape)\n",
    "        print((ts_files[i]))\n",
    "        print('----')\n",
    "\n",
    "        \n",
    "    ts_data = np.asarray(ts_data);\n",
    "\n",
    "ts_data.shape\n",
    "\n",
    "    '''\n",
    "print(' ')"
   ]
  }
 ],
 "metadata": {
  "kernelspec": {
   "display_name": "Python 3",
   "language": "python",
   "name": "python3"
  },
  "language_info": {
   "codemirror_mode": {
    "name": "ipython",
    "version": 3
   },
   "file_extension": ".py",
   "mimetype": "text/x-python",
   "name": "python",
   "nbconvert_exporter": "python",
   "pygments_lexer": "ipython3",
   "version": "3.9.1"
  }
 },
 "nbformat": 4,
 "nbformat_minor": 4
}
