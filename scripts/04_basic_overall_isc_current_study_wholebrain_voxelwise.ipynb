{
 "cells": [
  {
   "cell_type": "markdown",
   "metadata": {},
   "source": [
    "### Basic ISC\n",
    "\n",
    "\n",
    "\n",
    "#### Import modules"
   ]
  },
  {
   "cell_type": "code",
   "execution_count": null,
   "metadata": {},
   "outputs": [],
   "source": [
    "import matplotlib.pyplot as plt\n",
    "%matplotlib inline\n",
    "import sys, os, nilearn, pickle, glob,shutil\n",
    "from nilearn import plotting, input_data, datasets\n",
    "import numpy as np\n",
    "import pandas as pd\n",
    "from statsmodels.stats.multitest import multipletests\n",
    "from utils import *\n",
    "import warnings\n",
    "\n",
    "warnings.simplefilter(\"ignore\")"
   ]
  },
  {
   "cell_type": "markdown",
   "metadata": {},
   "source": [
    "#### Load timeseries, run basic ISC (static)"
   ]
  },
  {
   "cell_type": "code",
   "execution_count": 2,
   "metadata": {},
   "outputs": [
    {
     "data": {
      "text/plain": [
       "200"
      ]
     },
     "execution_count": 2,
     "metadata": {},
     "output_type": "execute_result"
    }
   ],
   "source": [
    "twin_df = pd.read_csv('../data/00_dataset_info/twin_df.csv')\n",
    "sub_list = list(np.hstack((twin_df['twin_A_id'].values, twin_df['twin_B_id'].values)))\n",
    "len(sub_list)"
   ]
  },
  {
   "cell_type": "code",
   "execution_count": null,
   "metadata": {},
   "outputs": [
    {
     "name": "stdout",
     "output_type": "stream",
     "text": [
      "/Volumes/Backup Plus/twins_partly_cloudy_extracted/sub-0001_LTR_Z_THP001_LP012_voxelwise.npy\n",
      "/Volumes/Backup Plus/twins_partly_cloudy_extracted/sub-0003_LTR_Z_THP001_LP012_voxelwise.npy\n",
      "/Volumes/Backup Plus/twins_partly_cloudy_extracted/sub-0004_LTR_Z_THP001_LP012_voxelwise.npy\n",
      "/Volumes/Backup Plus/twins_partly_cloudy_extracted/sub-0005_LTR_Z_THP001_LP012_voxelwise.npy\n",
      "/Volumes/Backup Plus/twins_partly_cloudy_extracted/sub-0006_LTR_Z_THP001_LP012_voxelwise.npy\n",
      "/Volumes/Backup Plus/twins_partly_cloudy_extracted/sub-0007_LTR_Z_THP001_LP012_voxelwise.npy\n",
      "/Volumes/Backup Plus/twins_partly_cloudy_extracted/sub-0010_LTR_Z_THP001_LP012_voxelwise.npy\n",
      "/Volumes/Backup Plus/twins_partly_cloudy_extracted/sub-0013_LTR_Z_THP001_LP012_voxelwise.npy\n",
      "/Volumes/Backup Plus/twins_partly_cloudy_extracted/sub-0015_LTR_Z_THP001_LP012_voxelwise.npy\n",
      "/Volumes/Backup Plus/twins_partly_cloudy_extracted/sub-0016_LTR_Z_THP001_LP012_voxelwise.npy\n",
      "/Volumes/Backup Plus/twins_partly_cloudy_extracted/sub-0017_LTR_Z_THP001_LP012_voxelwise.npy\n",
      "/Volumes/Backup Plus/twins_partly_cloudy_extracted/sub-0019_LTR_Z_THP001_LP012_voxelwise.npy\n",
      "/Volumes/Backup Plus/twins_partly_cloudy_extracted/sub-0020_LTR_Z_THP001_LP012_voxelwise.npy\n",
      "/Volumes/Backup Plus/twins_partly_cloudy_extracted/sub-0021_LTR_Z_THP001_LP012_voxelwise.npy\n",
      "/Volumes/Backup Plus/twins_partly_cloudy_extracted/sub-0024_LTR_Z_THP001_LP012_voxelwise.npy\n",
      "/Volumes/Backup Plus/twins_partly_cloudy_extracted/sub-0028_LTR_Z_THP001_LP012_voxelwise.npy\n",
      "/Volumes/Backup Plus/twins_partly_cloudy_extracted/sub-0031_LTR_Z_THP001_LP012_voxelwise.npy\n",
      "/Volumes/Backup Plus/twins_partly_cloudy_extracted/sub-0032_LTR_Z_THP001_LP012_voxelwise.npy\n",
      "/Volumes/Backup Plus/twins_partly_cloudy_extracted/sub-0037_LTR_Z_THP001_LP012_voxelwise.npy\n",
      "/Volumes/Backup Plus/twins_partly_cloudy_extracted/sub-0038_LTR_Z_THP001_LP012_voxelwise.npy\n"
     ]
    }
   ],
   "source": [
    "# done only for the 1st time, later just load the data\n",
    "#'''\n",
    "ts_data = np.zeros( ( 380, 124045, len(sub_list) ) ) #380 is timepoints, #124045 is in-mask voxels\n",
    "\n",
    "for curr_sub in range(len(sub_list)):\n",
    "    #print(curr_sub)\n",
    "    curr_file = '/Volumes/Backup Plus/twins_partly_cloudy_extracted/' + sub_list[curr_sub] + '_LTR_Z_THP001_LP012_voxelwise.npy'\n",
    "    print(curr_file)\n",
    "    \n",
    "    ts_data[ :, :, curr_sub] = np.load(curr_file)\n",
    "    \n",
    "print(ts_data.shape)\n",
    "\n",
    "np.save('/Volumes/Backup Plus/twins_partly_cloudy_extracted/ts_array_200subs_wholebrain.npy', ts_data)\n",
    "#'''\n",
    "print(' ')"
   ]
  },
  {
   "cell_type": "code",
   "execution_count": null,
   "metadata": {},
   "outputs": [],
   "source": [
    "# load timeseries\n",
    "ts_array = np.load('/Volumes/Backup Plus/twins_partly_cloudy_extracted/ts_array_200subs_wholebrain.npy')\n",
    "#ts_data = np.swapaxes(ts_array, 0, 2)\n",
    "#ts_data = np.swapaxes(ts_data, 0, 1)\n",
    "ts_data.shape"
   ]
  },
  {
   "cell_type": "code",
   "execution_count": null,
   "metadata": {
    "scrolled": false
   },
   "outputs": [],
   "source": [
    "# submit to ISC analysis\n",
    "\n",
    "#data input shape should be 380 * 124045 * 200 \n",
    "\n",
    "# takes about 15-20 minutes on normal machine\n",
    "ISC, p, distribution = partly_phaseshift_isc(ts_data, \n",
    "                                           pairwise= False,\n",
    "                                           summary_statistic = np.mean,\n",
    "                                           n_shifts = 1000, #can reduce to speed up, better increase to 1000\n",
    "                                           return_distribution=True)\n",
    "\n",
    "ISC[np.isnan(ISC)] = 0\n",
    "\n",
    "# Stats correction (uncomment if you computed enough n_shifts)\n",
    "alpha                           = .05\n",
    "q                               = multipletests(p[0, :], method='fdr_by')[1]\n",
    "corrected                       = q[np.newaxis, :] < alpha\n",
    "#ISC[corrected == False]         = 0\n",
    "\n",
    "isc_result_dict                 = {}\n",
    "isc_result_dict['ISC']          = ISC\n",
    "isc_result_dict['p']            = p\n",
    "isc_result_dict['distribution'] = distribution\n",
    "\n",
    "\n",
    "with open('/Volumes/Backup Plus/twins_partly_cloudy_extracted/isc_result_dict.pkl', 'wb') as f:\n",
    "    pickle.dump(isc_result_dict, f)"
   ]
  },
  {
   "cell_type": "markdown",
   "metadata": {},
   "source": [
    "#### Plot ISC results"
   ]
  },
  {
   "cell_type": "code",
   "execution_count": null,
   "metadata": {},
   "outputs": [],
   "source": [
    "from nilearn.maskers import NiftiMasker\n",
    "brain_masker = NiftiMasker( #mask_img = mask_path,\n",
    "                            detrend     = True, \n",
    "                            standardize = True,\n",
    "                            high_pass   = 0.01, \n",
    "                            t_r         = 0.8, \n",
    "                            low_pass    = 0.12,\n",
    "                            mask_strategy = 'whole-brain-template',\n",
    "                          );\n",
    "brain_masker.fit('/Volumes/Backup Plus/twins_fmriprep/sub-0001/ses-02/func/sub-0001_ses-02_task-partlycloudy_space-MNI152NLin2009cAsym_desc-preproc_bold.nii.gz')\n",
    "\n",
    "\n",
    "\n",
    "curr_isc = isc_result_dict['ISC']  #np.reshape(ISC, (293,1)).T\n",
    "curr_img = brain_masker.inverse_transform(curr_isc);\n",
    "plt.figure(figsize = (20,15));\n",
    "nilearn.plotting.plot_stat_map(nilearn.image.index_img(curr_img,0), \n",
    "                                   threshold      = 0.05, \n",
    "                                   vmax           = 0.50, \n",
    "                                   draw_cross     = True,\n",
    "                                   display_mode   = 'z',\n",
    "                                   cut_coords     = [ -20, -10, 0, 10, 20,  30, 40, 50],\n",
    "                                   symmetric_cbar = True,\n",
    "                                   annotate       = True,);\n",
    "\n",
    "plt.show();"
   ]
  }
 ],
 "metadata": {
  "kernelspec": {
   "display_name": "Python 3",
   "language": "python",
   "name": "python3"
  },
  "language_info": {
   "codemirror_mode": {
    "name": "ipython",
    "version": 3
   },
   "file_extension": ".py",
   "mimetype": "text/x-python",
   "name": "python",
   "nbconvert_exporter": "python",
   "pygments_lexer": "ipython3",
   "version": "3.9.1"
  }
 },
 "nbformat": 4,
 "nbformat_minor": 4
}
